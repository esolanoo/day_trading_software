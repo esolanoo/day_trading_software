{
 "cells": [
  {
   "cell_type": "markdown",
   "metadata": {},
   "source": [
    "# LSTM\n",
    "\n",
    "## INTRO\n",
    "\n",
    "Long Short-Term Memory (LSTM) is a type of recurrent neural network (RNN) architecture designed to handle sequence prediction problems. It is particularly effective in capturing long-term dependencies in sequential data.\n",
    "\n",
    "- Sequential Input: LSTM processes input data sequentially, one element at a time, while maintaining an internal state.\n",
    "- Forget Gate: At each time step, the LSTM decides what information to keep or forget from the internal state. This is done using a \"forget gate\" that takes the input and the previous state as inputs and outputs a number between 0 and 1 for each element in the internal state. A value of 1 means \"keep this\" and 0 means \"forget this\".\n",
    "- Input Gate: Next, the LSTM decides what new information to store in the internal state. This is done through an \"input gate\" that takes the input and the previous state as inputs, processes them, and outputs a new candidate value for the internal state.\n",
    "- Update the State: The internal state is updated by combining the information from the forget gate and the input gate. The forget gate decides what to remove from the state, and the input gate decides what to add.\n",
    "- Output Gate: Finally, the LSTM decides what to output based on the updated internal state. This is done using an \"output gate\" that takes the input and the current state, processes them, and produces the output for the current time step.\n",
    "\n",
    "# GRU\n",
    "\n",
    "## Intro\n",
    "\n",
    "Gated Recurrent Unit (GRU) is another type of recurrent neural network (RNN) architecture, similar to LSTM but somewhat simpler. It is designed to capture dependencies in sequential data.\n",
    "\n",
    "- Update Gate: GRU has an update gate that controls how much of the previous state to keep and how much of the new state to add. It takes the input and the previous state, processes them, and decides what information to update in the current state.\n",
    "- Reset Gate: There's also a reset gate that helps the model decide how much of the previous state to forget. It takes the input and the previous state, processes them, and decides what information to reset.\n",
    "- Current Memory: GRU computes a new current memory based on the input, the previous state, and the update gate. It decides how much of the previous state to keep and how much of the new state to add.\n",
    "- Output: Finally, GRU produces an output based on the current memory. This output can be used for predictions or passed to the next time step as input.\n",
    "\n",
    "\n",
    "### Tensorflow\n",
    "\n",
    "For the sake of my sanity, I am not building the models. Luckily, **Tensorflow.keras** comes with a semi-built-in option to construct RNNs with either/both methods (ore even some extra steps)."
   ]
  },
  {
   "cell_type": "code",
   "execution_count": 6,
   "metadata": {},
   "outputs": [],
   "source": [
    "import tensorflow as tf\n",
    "import pandas as pd\n",
    "import numpy as np\n",
    "from tensorflow.keras.models import Sequential\n",
    "from tensorflow.keras.layers import *\n",
    "from tensorflow.keras.callbacks import ModelCheckpoint\n",
    "from tensorflow.keras.losses import MeanSquaredError\n",
    "from tensorflow.keras.metrics import RootMeanSquaredError\n",
    "from tensorflow.keras.optimizers import Adam\n",
    "\n",
    "from data_funcs import *"
   ]
  },
  {
   "cell_type": "code",
   "execution_count": 7,
   "metadata": {},
   "outputs": [
    {
     "name": "stderr",
     "output_type": "stream",
     "text": [
      "100%|██████████| 31/31 [00:11<00:00,  2.81it/s]\n"
     ]
    }
   ],
   "source": [
    "portfolio_dict, portfolio = get_data(randomness=True)"
   ]
  },
  {
   "cell_type": "code",
   "execution_count": 8,
   "metadata": {},
   "outputs": [
    {
     "data": {
      "text/html": [
       "<div>\n",
       "<style scoped>\n",
       "    .dataframe tbody tr th:only-of-type {\n",
       "        vertical-align: middle;\n",
       "    }\n",
       "\n",
       "    .dataframe tbody tr th {\n",
       "        vertical-align: top;\n",
       "    }\n",
       "\n",
       "    .dataframe thead th {\n",
       "        text-align: right;\n",
       "    }\n",
       "</style>\n",
       "<table border=\"1\" class=\"dataframe\">\n",
       "  <thead>\n",
       "    <tr style=\"text-align: right;\">\n",
       "      <th></th>\n",
       "      <th>Adj Close</th>\n",
       "      <th>Close</th>\n",
       "      <th>High</th>\n",
       "      <th>Low</th>\n",
       "      <th>Open</th>\n",
       "      <th>Volume</th>\n",
       "      <th>day sin</th>\n",
       "      <th>returns</th>\n",
       "    </tr>\n",
       "  </thead>\n",
       "  <tbody>\n",
       "    <tr>\n",
       "      <th>0</th>\n",
       "      <td>152.160004</td>\n",
       "      <td>152.160004</td>\n",
       "      <td>153.020004</td>\n",
       "      <td>151.050003</td>\n",
       "      <td>151.570007</td>\n",
       "      <td>3217015.0</td>\n",
       "      <td>-0.625923</td>\n",
       "      <td>0.004091</td>\n",
       "    </tr>\n",
       "    <tr>\n",
       "      <th>1</th>\n",
       "      <td>152.339996</td>\n",
       "      <td>152.339996</td>\n",
       "      <td>152.470001</td>\n",
       "      <td>151.389999</td>\n",
       "      <td>152.115005</td>\n",
       "      <td>2123003.0</td>\n",
       "      <td>-0.642788</td>\n",
       "      <td>0.001183</td>\n",
       "    </tr>\n",
       "    <tr>\n",
       "      <th>2</th>\n",
       "      <td>153.315308</td>\n",
       "      <td>153.315308</td>\n",
       "      <td>153.380005</td>\n",
       "      <td>152.107803</td>\n",
       "      <td>152.339996</td>\n",
       "      <td>2585205.0</td>\n",
       "      <td>-0.659346</td>\n",
       "      <td>0.006402</td>\n",
       "    </tr>\n",
       "    <tr>\n",
       "      <th>3</th>\n",
       "      <td>153.420197</td>\n",
       "      <td>153.420197</td>\n",
       "      <td>153.509995</td>\n",
       "      <td>152.601593</td>\n",
       "      <td>153.300003</td>\n",
       "      <td>1760709.0</td>\n",
       "      <td>-0.675590</td>\n",
       "      <td>0.000684</td>\n",
       "    </tr>\n",
       "    <tr>\n",
       "      <th>4</th>\n",
       "      <td>154.100006</td>\n",
       "      <td>154.100006</td>\n",
       "      <td>154.139999</td>\n",
       "      <td>153.400101</td>\n",
       "      <td>153.440002</td>\n",
       "      <td>2102916.0</td>\n",
       "      <td>-0.691513</td>\n",
       "      <td>0.004431</td>\n",
       "    </tr>\n",
       "  </tbody>\n",
       "</table>\n",
       "</div>"
      ],
      "text/plain": [
       "    Adj Close       Close        High         Low        Open     Volume  \\\n",
       "0  152.160004  152.160004  153.020004  151.050003  151.570007  3217015.0   \n",
       "1  152.339996  152.339996  152.470001  151.389999  152.115005  2123003.0   \n",
       "2  153.315308  153.315308  153.380005  152.107803  152.339996  2585205.0   \n",
       "3  153.420197  153.420197  153.509995  152.601593  153.300003  1760709.0   \n",
       "4  154.100006  154.100006  154.139999  153.400101  153.440002  2102916.0   \n",
       "\n",
       "    day sin   returns  \n",
       "0 -0.625923  0.004091  \n",
       "1 -0.642788  0.001183  \n",
       "2 -0.659346  0.006402  \n",
       "3 -0.675590  0.000684  \n",
       "4 -0.691513  0.004431  "
      ]
     },
     "execution_count": 8,
     "metadata": {},
     "output_type": "execute_result"
    }
   ],
   "source": [
    "portfolio['stocks']['AMD'].head()"
   ]
  },
  {
   "cell_type": "markdown",
   "metadata": {},
   "source": [
    "The model will predict the necesary data to calculate the KPIs and performance meassures:\n",
    "\n",
    "- High\n",
    "- Low\n",
    "- Close\n",
    "- Adj Close\n",
    "\n",
    "Using **all** of the variables in a 6-window periodn from that specific stock (df)\n",
    "\n",
    "| $\\hat{x}$<sub>t-5</sub> | $\\hat{x}$<sub>t-4</sub> | $\\hat{x}$<sub>t-3</sub> | $\\hat{x}$<sub>t-2</sub> | $\\hat{x}$<sub>t-1</sub> | $\\hat{x}$<sub>t</sub> | $\\hat{y}$ |\n",
    "|:---:|:---:|:---:|:---:|:---:|:---:|:---:|\n",
    "| df.iloc[ 0, : ] | df.iloc[ 1, : ] | df.iloc[ 2, : ] | df.iloc[ 3, : ] | df.iloc[ 4, : ] | df.iloc[ 5, : ] | [High<sub>6</sub>, Low<sub>6</sub>, Close<sub>6</sub>, Adj_Close<sub>6</sub>] |\n",
    "| df.iloc[ 1, : ] | df.iloc[ 2, : ] | df.iloc[ 3, : ] | df.iloc[ 4, : ] | df.iloc[ 5, : ] | df.iloc[ 6, : ] | [High<sub>7</sub>, Low<sub>7</sub>, Close<sub>7</sub>, Adj_Close<sub>7</sub>] |\n",
    "| df.iloc[ 2, : ] | df.iloc[ 3, : ] | df.iloc[ 4, : ] | df.iloc[ 5, : ] | df.iloc[ 6, : ] | df.iloc[ 7, : ] | [High<sub>8</sub>, Low<sub>8</sub>, Close<sub>8</sub>, Adj_Close<sub>8</sub>] |\n",
    "| df.iloc[ 3, : ] | df.iloc[ 4, : ] | df.iloc[ 5, : ] | df.iloc[ 6, : ] | df.iloc[ 7, : ] | df.iloc[ 8, : ] | [High<sub>9</sub>, Low<sub>9</sub>, Close<sub>9</sub>, Adj_Close<sub>9</sub>] |\n",
    "| ... | ... | ... | ... | ... | ... | ... |"
   ]
  },
  {
   "cell_type": "markdown",
   "metadata": {},
   "source": [
    "## Split the data"
   ]
  },
  {
   "cell_type": "code",
   "execution_count": 9,
   "metadata": {},
   "outputs": [
    {
     "data": {
      "text/plain": [
       "((305, 6, 8), (305, 4))"
      ]
     },
     "execution_count": 9,
     "metadata": {},
     "output_type": "execute_result"
    }
   ],
   "source": [
    "df = portfolio['stocks']['AMD'].copy()\n",
    "targets = df.loc[:, ['High', 'Low', 'Close', 'Adj Close']].to_numpy()\n",
    "df = df.to_numpy()\n",
    "X = []\n",
    "Y = []\n",
    "window = 6\n",
    "\n",
    "for i in range(len(df)-window):\n",
    "    r = [x for x in df[i:i+window]]\n",
    "    X.append(r)\n",
    "    Y.append(targets[i+window])\n",
    "\n",
    "X = np.array(X)\n",
    "Y = np.array(Y)\n",
    "\n",
    "X.shape, Y.shape"
   ]
  },
  {
   "cell_type": "code",
   "execution_count": 10,
   "metadata": {},
   "outputs": [
    {
     "data": {
      "text/plain": [
       "((240, 6, 8), (65, 4))"
      ]
     },
     "execution_count": 10,
     "metadata": {},
     "output_type": "execute_result"
    }
   ],
   "source": [
    "idx = 8*int(X.shape[0]/10)\n",
    "X_train = X[:idx, :, :]\n",
    "Y_train = Y[:idx, :]\n",
    "X_test =  X[idx:, :, :]\n",
    "Y_test =  Y[idx:, :]\n",
    "\n",
    "X_train.shape, Y_test.shape"
   ]
  },
  {
   "cell_type": "markdown",
   "metadata": {},
   "source": [
    "## Standarization"
   ]
  },
  {
   "cell_type": "code",
   "execution_count": 11,
   "metadata": {},
   "outputs": [],
   "source": [
    "x_means = [np.mean(X_train[:, :, i]) for i in range(X_train.shape[2])]\n",
    "x_stds = [np.std(X_train[:, :, i]) for i in range(X_train.shape[2])]\n",
    "\n",
    "X_train_p = (X_train-x_means)/x_stds\n",
    "X_test_p = (X_test-x_means)/x_stds\n",
    "    \n",
    "y_means = [np.mean(Y_train[:, i]) for i in range(Y_train.shape[1])]\n",
    "y_stds = [np.std(Y_train[:, i]) for i in range(Y_train.shape[1])]\n",
    "\n",
    "Y_train_p = (Y_train-y_means)/y_stds\n",
    "Y_test_p = (Y_test-y_means)/y_stds"
   ]
  },
  {
   "cell_type": "markdown",
   "metadata": {},
   "source": [
    "## Turn everything into a func"
   ]
  },
  {
   "cell_type": "code",
   "execution_count": 12,
   "metadata": {},
   "outputs": [],
   "source": [
    "def preprocess(DF, window=6):\n",
    "    df = DF.copy()\n",
    "    targets = df.loc[:, ['High', 'Low', 'Close', 'Adj Close']].to_numpy()\n",
    "    df = df.to_numpy()\n",
    "    X = []\n",
    "    Y = []\n",
    "\n",
    "    for i in range(len(df)-window):\n",
    "        r = [x for x in df[i:i+window]]\n",
    "        X.append(r)\n",
    "        Y.append(targets[i+window])\n",
    "\n",
    "    X = np.array(X)\n",
    "    Y = np.array(Y)\n",
    "    \n",
    "    idx = 7*int(X.shape[0]/10)\n",
    "    idx2 = 9*int(X.shape[0]/10)\n",
    "    X_train = X[:idx, :, :]\n",
    "    Y_train = Y[:idx, :]\n",
    "    X_test =  X[idx:idx2, :, :]\n",
    "    Y_test =  Y[idx:idx2, :]\n",
    "    X_val =  X[idx2:, :, :]\n",
    "    Y_val =  Y[idx2:, :]\n",
    "    \n",
    "    x_means = [np.mean(X_train[:, :, i]) for i in range(X_train.shape[2])]\n",
    "    x_stds = np.array([np.std(X_train[:, :, i]) for i in range(X_train.shape[2])])\n",
    "    x_stds = np.where(x_stds == 0, 1, x_stds)\n",
    "\n",
    "    X_train_p = (X_train-x_means)/x_stds\n",
    "    X_test_p = (X_test-x_means)/x_stds\n",
    "    X_val_p = (X_val-x_means)/x_stds\n",
    "        \n",
    "    y_means = [np.mean(Y_train[:, i]) for i in range(Y_train.shape[1])]\n",
    "    y_stds = [np.std(Y_train[:, i]) for i in range(Y_train.shape[1])]\n",
    "\n",
    "    Y_train_p = (Y_train-y_means)/y_stds\n",
    "    Y_test_p = (Y_test-y_means)/y_stds\n",
    "    Y_val_p = (Y_val-y_means)/y_stds\n",
    "    \n",
    "    return [X_train_p, X_test_p, X_val_p, x_means, x_stds], [Y_train_p, Y_test_p, Y_val_p, y_means, y_stds]"
   ]
  },
  {
   "cell_type": "code",
   "execution_count": 13,
   "metadata": {},
   "outputs": [],
   "source": [
    "X, Y = {}, {}\n",
    "\n",
    "for eq in portfolio_dict:\n",
    "    for tckr in portfolio_dict[eq]:\n",
    "        X[tckr], Y[tckr] = preprocess(portfolio[eq][tckr])"
   ]
  },
  {
   "cell_type": "markdown",
   "metadata": {},
   "source": [
    "# Models\n",
    "\n",
    "Because of the nature of the diversification, the project aims to buils a model for each type of equity. If computational load is not an issue, a model for every ticker would be better"
   ]
  },
  {
   "cell_type": "code",
   "execution_count": 14,
   "metadata": {},
   "outputs": [
    {
     "name": "stdout",
     "output_type": "stream",
     "text": [
      "WARNING:tensorflow:From c:\\Users\\Eduardo\\AppData\\Local\\Programs\\Python\\Python311\\Lib\\site-packages\\keras\\src\\backend.py:873: The name tf.get_default_graph is deprecated. Please use tf.compat.v1.get_default_graph instead.\n",
      "\n"
     ]
    }
   ],
   "source": [
    "models, checkpoints = {}, {}\n",
    "\n",
    "for eq in portfolio_dict:\n",
    "    for stck in portfolio_dict[eq]: \n",
    "        models[stck] = Sequential()\n",
    "        models[stck].add(InputLayer((6, 8)))\n",
    "        models[stck].add(LSTM(64))\n",
    "        models[stck].add(Dense(8, 'relu'))\n",
    "        models[stck].add(Dense(4, 'linear'))\n",
    "        checkpoints[stck] = ModelCheckpoint('{}/'.format(stck), save_best_only=True)"
   ]
  },
  {
   "cell_type": "code",
   "execution_count": 15,
   "metadata": {},
   "outputs": [
    {
     "name": "stdout",
     "output_type": "stream",
     "text": [
      "Model: \"sequential_14\"\n",
      "_________________________________________________________________\n",
      " Layer (type)                Output Shape              Param #   \n",
      "=================================================================\n",
      " lstm_14 (LSTM)              (None, 64)                18688     \n",
      "                                                                 \n",
      " dense_28 (Dense)            (None, 8)                 520       \n",
      "                                                                 \n",
      " dense_29 (Dense)            (None, 4)                 36        \n",
      "                                                                 \n",
      "=================================================================\n",
      "Total params: 19244 (75.17 KB)\n",
      "Trainable params: 19244 (75.17 KB)\n",
      "Non-trainable params: 0 (0.00 Byte)\n",
      "_________________________________________________________________\n"
     ]
    }
   ],
   "source": [
    "models['VOO'].summary()"
   ]
  },
  {
   "cell_type": "code",
   "execution_count": null,
   "metadata": {},
   "outputs": [],
   "source": [
    "for eq in portfolio_dict:\n",
    "        for stck in portfolio_dict[eq]:\n",
    "                print(stck)\n",
    "                models[stck].compile(loss=MeanSquaredError(), optimizer=Adam(learning_rate=0.005), metrics=[RootMeanSquaredError()])\n",
    "                models[stck].fit(X[stck][0], Y[stck][0], validation_data=(X[stck][1], Y[stck][1]), epochs=3, callbacks=[checkpoints[stck]])\n",
    "                print(\"NEXT \\n\")"
   ]
  },
  {
   "cell_type": "code",
   "execution_count": 17,
   "metadata": {},
   "outputs": [
    {
     "name": "stderr",
     "output_type": "stream",
     "text": [
      "100%|██████████| 31/31 [00:03<00:00,  8.48it/s]\n"
     ]
    }
   ],
   "source": [
    "today_data = get_data()"
   ]
  },
  {
   "cell_type": "code",
   "execution_count": 69,
   "metadata": {},
   "outputs": [
    {
     "name": "stdout",
     "output_type": "stream",
     "text": [
      "2/2 [==============================] - 0s 4ms/step\n"
     ]
    }
   ],
   "source": [
    "tckr = 'VOO'\n",
    "y = models[tckr].predict(X[tckr][2]) # Validation data\n",
    "y_p = y*Y[tckr][4]+Y[tckr][3]\n",
    "y_real = Y[tckr][2]*Y[tckr][4]+Y[tckr][3]"
   ]
  },
  {
   "cell_type": "code",
   "execution_count": 70,
   "metadata": {},
   "outputs": [],
   "source": [
    "data = {\n",
    "    'Actual High': y_real[:, 0],\n",
    "    'Predicted High': y_p[:, 0],\n",
    "    'Actual Low': y_real[:, 1],\n",
    "    'Predicted Low': y_p[:, 1],\n",
    "    'Actual Close': y_real[:, 2],\n",
    "    'Predicted Close': y_p[:, 2],\n",
    "    'Adj Close': y_real[:, 3],\n",
    "    'Predicted Adj Close': y_p[:, 3]\n",
    "}"
   ]
  },
  {
   "cell_type": "code",
   "execution_count": 75,
   "metadata": {},
   "outputs": [],
   "source": [
    "def Predictions(X, Y):\n",
    "    preds = {}\n",
    "    for tckr in list(X.keys()):\n",
    "        y = models[tckr].predict(X[tckr][2]) # Validation data\n",
    "        y_p = y*Y[tckr][4]+Y[tckr][3]\n",
    "        y_real = Y[tckr][2]*Y[tckr][4]+Y[tckr][3]\n",
    "        data = {\n",
    "            'Actual High': y_real[:, 0],\n",
    "            'Predicted High': y_p[:, 0],\n",
    "            'Actual Low': y_real[:, 1],\n",
    "            'Predicted Low': y_p[:, 1],\n",
    "            'Actual Close': y_real[:, 2],\n",
    "            'Predicted Close': y_p[:, 2],\n",
    "            'Actual Adj Close': y_real[:, 3],\n",
    "            'Predicted Adj Close': y_p[:, 3]\n",
    "        }\n",
    "        preds[tckr] = pd.DataFrame(data=data)\n",
    "    return preds"
   ]
  },
  {
   "cell_type": "code",
   "execution_count": 76,
   "metadata": {},
   "outputs": [
    {
     "name": "stdout",
     "output_type": "stream",
     "text": [
      "2/2 [==============================] - 0s 3ms/step\n",
      "2/2 [==============================] - 0s 4ms/step\n",
      "2/2 [==============================] - 0s 2ms/step\n",
      "WARNING:tensorflow:5 out of the last 33 calls to <function Model.make_predict_function.<locals>.predict_function at 0x0000027624E542C0> triggered tf.function retracing. Tracing is expensive and the excessive number of tracings could be due to (1) creating @tf.function repeatedly in a loop, (2) passing tensors with different shapes, (3) passing Python objects instead of tensors. For (1), please define your @tf.function outside of the loop. For (2), @tf.function has reduce_retracing=True option that can avoid unnecessary retracing. For (3), please refer to https://www.tensorflow.org/guide/function#controlling_retracing and https://www.tensorflow.org/api_docs/python/tf/function for  more details.\n"
     ]
    },
    {
     "name": "stderr",
     "output_type": "stream",
     "text": [
      "WARNING:tensorflow:5 out of the last 33 calls to <function Model.make_predict_function.<locals>.predict_function at 0x0000027624E542C0> triggered tf.function retracing. Tracing is expensive and the excessive number of tracings could be due to (1) creating @tf.function repeatedly in a loop, (2) passing tensors with different shapes, (3) passing Python objects instead of tensors. For (1), please define your @tf.function outside of the loop. For (2), @tf.function has reduce_retracing=True option that can avoid unnecessary retracing. For (3), please refer to https://www.tensorflow.org/guide/function#controlling_retracing and https://www.tensorflow.org/api_docs/python/tf/function for  more details.\n"
     ]
    },
    {
     "name": "stdout",
     "output_type": "stream",
     "text": [
      "2/2 [==============================] - 0s 4ms/step\n",
      "WARNING:tensorflow:5 out of the last 11 calls to <function Model.make_predict_function.<locals>.predict_function at 0x0000027624E567A0> triggered tf.function retracing. Tracing is expensive and the excessive number of tracings could be due to (1) creating @tf.function repeatedly in a loop, (2) passing tensors with different shapes, (3) passing Python objects instead of tensors. For (1), please define your @tf.function outside of the loop. For (2), @tf.function has reduce_retracing=True option that can avoid unnecessary retracing. For (3), please refer to https://www.tensorflow.org/guide/function#controlling_retracing and https://www.tensorflow.org/api_docs/python/tf/function for  more details.\n"
     ]
    },
    {
     "name": "stderr",
     "output_type": "stream",
     "text": [
      "WARNING:tensorflow:5 out of the last 11 calls to <function Model.make_predict_function.<locals>.predict_function at 0x0000027624E567A0> triggered tf.function retracing. Tracing is expensive and the excessive number of tracings could be due to (1) creating @tf.function repeatedly in a loop, (2) passing tensors with different shapes, (3) passing Python objects instead of tensors. For (1), please define your @tf.function outside of the loop. For (2), @tf.function has reduce_retracing=True option that can avoid unnecessary retracing. For (3), please refer to https://www.tensorflow.org/guide/function#controlling_retracing and https://www.tensorflow.org/api_docs/python/tf/function for  more details.\n"
     ]
    },
    {
     "name": "stdout",
     "output_type": "stream",
     "text": [
      "2/2 [==============================] - 0s 3ms/step\n",
      "2/2 [==============================] - 0s 3ms/step\n",
      "2/2 [==============================] - 0s 4ms/step\n",
      "2/2 [==============================] - 0s 3ms/step\n",
      "2/2 [==============================] - 0s 3ms/step\n",
      "2/2 [==============================] - 0s 4ms/step\n",
      "2/2 [==============================] - 0s 3ms/step\n",
      "2/2 [==============================] - 0s 4ms/step\n",
      "2/2 [==============================] - 0s 4ms/step\n",
      "2/2 [==============================] - 0s 3ms/step\n",
      "2/2 [==============================] - 0s 6ms/step\n",
      "2/2 [==============================] - 0s 3ms/step\n",
      "2/2 [==============================] - 0s 4ms/step\n",
      "2/2 [==============================] - 0s 3ms/step\n",
      "2/2 [==============================] - 0s 3ms/step\n",
      "2/2 [==============================] - 0s 4ms/step\n",
      "2/2 [==============================] - 0s 5ms/step\n",
      "2/2 [==============================] - 0s 4ms/step\n",
      "2/2 [==============================] - 0s 3ms/step\n",
      "28/28 [==============================] - 1s 2ms/step\n",
      "28/28 [==============================] - 1s 2ms/step\n",
      "28/28 [==============================] - 1s 2ms/step\n",
      "47/47 [==============================] - 1s 2ms/step\n",
      "4/4 [==============================] - 0s 2ms/step\n",
      "4/4 [==============================] - 0s 3ms/step\n",
      "4/4 [==============================] - 0s 2ms/step\n",
      "4/4 [==============================] - 0s 2ms/step\n"
     ]
    }
   ],
   "source": [
    "preds = Predictions(X, Y)"
   ]
  },
  {
   "cell_type": "code",
   "execution_count": 84,
   "metadata": {},
   "outputs": [
    {
     "data": {
      "text/plain": [
       "[<matplotlib.lines.Line2D at 0x27628c655d0>]"
      ]
     },
     "execution_count": 84,
     "metadata": {},
     "output_type": "execute_result"
    },
    {
     "data": {
      "image/png": "[encoded data removed]",
      "text/plain": [
       "<Figure size 640x480 with 1 Axes>"
      ]
     },
     "metadata": {},
     "output_type": "display_data"
    }
   ],
   "source": [
    "import matplotlib.pyplot as plt\n",
    "\n",
    "tckr = 'VTV'\n",
    "plt.plot(preds[tckr]['Adj Close'])\n",
    "plt.plot(preds[tckr]['Predicted Adj Close'])"
   ]
  }
 ],
 "metadata": {
  "kernelspec": {
   "display_name": "AlgoTrading",
   "language": "python",
   "name": "python3"
  },
  "language_info": {
   "codemirror_mode": {
    "name": "ipython",
    "version": 3
   },
   "file_extension": ".py",
   "mimetype": "text/x-python",
   "name": "python",
   "nbconvert_exporter": "python",
   "pygments_lexer": "ipython3",
   "version": "3.11.3"
  }
 },
 "nbformat": 4,
 "nbformat_minor": 2
}
