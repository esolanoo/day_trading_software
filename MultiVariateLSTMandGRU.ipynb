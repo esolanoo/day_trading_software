{
 "cells": [
  {
   "cell_type": "markdown",
   "metadata": {},
   "source": [
    "# LSTM\n",
    "\n",
    "## INTRO\n",
    "\n",
    "Long Short-Term Memory (LSTM) is a type of recurrent neural network (RNN) architecture designed to handle sequence prediction problems. It is particularly effective in capturing long-term dependencies in sequential data.\n",
    "\n",
    "- Sequential Input: LSTM processes input data sequentially, one element at a time, while maintaining an internal state.\n",
    "- Forget Gate: At each time step, the LSTM decides what information to keep or forget from the internal state. This is done using a \"forget gate\" that takes the input and the previous state as inputs and outputs a number between 0 and 1 for each element in the internal state. A value of 1 means \"keep this\" and 0 means \"forget this\".\n",
    "- Input Gate: Next, the LSTM decides what new information to store in the internal state. This is done through an \"input gate\" that takes the input and the previous state as inputs, processes them, and outputs a new candidate value for the internal state.\n",
    "- Update the State: The internal state is updated by combining the information from the forget gate and the input gate. The forget gate decides what to remove from the state, and the input gate decides what to add.\n",
    "- Output Gate: Finally, the LSTM decides what to output based on the updated internal state. This is done using an \"output gate\" that takes the input and the current state, processes them, and produces the output for the current time step.\n",
    "\n",
    "# GRU\n",
    "\n",
    "## Intro\n",
    "\n",
    "Gated Recurrent Unit (GRU) is another type of recurrent neural network (RNN) architecture, similar to LSTM but somewhat simpler. It is designed to capture dependencies in sequential data.\n",
    "\n",
    "- Update Gate: GRU has an update gate that controls how much of the previous state to keep and how much of the new state to add. It takes the input and the previous state, processes them, and decides what information to update in the current state.\n",
    "- Reset Gate: There's also a reset gate that helps the model decide how much of the previous state to forget. It takes the input and the previous state, processes them, and decides what information to reset.\n",
    "- Current Memory: GRU computes a new current memory based on the input, the previous state, and the update gate. It decides how much of the previous state to keep and how much of the new state to add.\n",
    "- Output: Finally, GRU produces an output based on the current memory. This output can be used for predictions or passed to the next time step as input.\n",
    "\n",
    "\n",
    "### Tensorflow\n",
    "\n",
    "For the sake of my sanity, I am not building the models. Luckily, **Tensorflow.keras** comes with a semi-built-in option to construct RNNs with either/both methods (ore even some extra steps)."
   ]
  },
  {
   "cell_type": "code",
   "execution_count": 2,
   "metadata": {},
   "outputs": [
    {
     "name": "stdout",
     "output_type": "stream",
     "text": [
      "WARNING:tensorflow:From d:\\Apps\\Anaconda\\Conda\\envs\\AlgoTrading\\Lib\\site-packages\\keras\\src\\losses.py:2976: The name tf.losses.sparse_softmax_cross_entropy is deprecated. Please use tf.compat.v1.losses.sparse_softmax_cross_entropy instead.\n",
      "\n"
     ]
    }
   ],
   "source": [
    "import tensorflow as tf\n",
    "import pandas as pd\n",
    "import numpy as np\n",
    "from tensorflow.keras.models import Sequential\n",
    "from tensorflow.keras.layers import *\n",
    "from tensorflow.keras.callbacks import ModelCheckpoint\n",
    "from tensorflow.keras.losses import MeanSquaredError\n",
    "from tensorflow.keras.metrics import RootMeanSquaredError\n",
    "from tensorflow.keras.optimizers import Adam\n",
    "\n",
    "from data_funcs import *"
   ]
  },
  {
   "cell_type": "code",
   "execution_count": 3,
   "metadata": {},
   "outputs": [
    {
     "name": "stderr",
     "output_type": "stream",
     "text": [
      "  0%|          | 0/31 [00:00<?, ?it/s]"
     ]
    },
    {
     "name": "stderr",
     "output_type": "stream",
     "text": [
      "100%|██████████| 31/31 [00:32<00:00,  1.04s/it]\n"
     ]
    }
   ],
   "source": [
    "portfolio_dict, portfolio = get_data()"
   ]
  },
  {
   "cell_type": "code",
   "execution_count": 4,
   "metadata": {},
   "outputs": [
    {
     "data": {
      "text/html": [
       "<div>\n",
       "<style scoped>\n",
       "    .dataframe tbody tr th:only-of-type {\n",
       "        vertical-align: middle;\n",
       "    }\n",
       "\n",
       "    .dataframe tbody tr th {\n",
       "        vertical-align: top;\n",
       "    }\n",
       "\n",
       "    .dataframe thead th {\n",
       "        text-align: right;\n",
       "    }\n",
       "</style>\n",
       "<table border=\"1\" class=\"dataframe\">\n",
       "  <thead>\n",
       "    <tr style=\"text-align: right;\">\n",
       "      <th></th>\n",
       "      <th>Adj Close</th>\n",
       "      <th>Close</th>\n",
       "      <th>Dividends</th>\n",
       "      <th>High</th>\n",
       "      <th>Low</th>\n",
       "      <th>Open</th>\n",
       "      <th>Stock Splits</th>\n",
       "      <th>Volume</th>\n",
       "      <th>adx</th>\n",
       "      <th>atr</th>\n",
       "      <th>day sin</th>\n",
       "      <th>returns</th>\n",
       "      <th>rsi</th>\n",
       "    </tr>\n",
       "  </thead>\n",
       "  <tbody>\n",
       "    <tr>\n",
       "      <th>0</th>\n",
       "      <td>146.050003</td>\n",
       "      <td>146.050003</td>\n",
       "      <td>0.0</td>\n",
       "      <td>146.100006</td>\n",
       "      <td>145.750000</td>\n",
       "      <td>145.828598</td>\n",
       "      <td>0.0</td>\n",
       "      <td>605769.0</td>\n",
       "      <td>0.343013</td>\n",
       "      <td>0.387335</td>\n",
       "      <td>-0.999048</td>\n",
       "      <td>0.001526</td>\n",
       "      <td>0.701828</td>\n",
       "    </tr>\n",
       "    <tr>\n",
       "      <th>1</th>\n",
       "      <td>146.098099</td>\n",
       "      <td>146.098099</td>\n",
       "      <td>0.0</td>\n",
       "      <td>146.199997</td>\n",
       "      <td>145.914993</td>\n",
       "      <td>146.042099</td>\n",
       "      <td>0.0</td>\n",
       "      <td>571215.0</td>\n",
       "      <td>0.338793</td>\n",
       "      <td>0.380085</td>\n",
       "      <td>-0.999762</td>\n",
       "      <td>0.000329</td>\n",
       "      <td>0.697250</td>\n",
       "    </tr>\n",
       "    <tr>\n",
       "      <th>2</th>\n",
       "      <td>145.779907</td>\n",
       "      <td>145.779907</td>\n",
       "      <td>0.0</td>\n",
       "      <td>146.085007</td>\n",
       "      <td>145.759995</td>\n",
       "      <td>146.085007</td>\n",
       "      <td>0.0</td>\n",
       "      <td>448473.0</td>\n",
       "      <td>0.323179</td>\n",
       "      <td>0.376199</td>\n",
       "      <td>-1.000000</td>\n",
       "      <td>-0.002178</td>\n",
       "      <td>0.657009</td>\n",
       "    </tr>\n",
       "    <tr>\n",
       "      <th>3</th>\n",
       "      <td>145.898605</td>\n",
       "      <td>145.898605</td>\n",
       "      <td>0.0</td>\n",
       "      <td>145.970001</td>\n",
       "      <td>145.750198</td>\n",
       "      <td>145.779907</td>\n",
       "      <td>0.0</td>\n",
       "      <td>447584.0</td>\n",
       "      <td>0.308843</td>\n",
       "      <td>0.365207</td>\n",
       "      <td>-0.999762</td>\n",
       "      <td>0.000814</td>\n",
       "      <td>0.574970</td>\n",
       "    </tr>\n",
       "    <tr>\n",
       "      <th>4</th>\n",
       "      <td>145.850006</td>\n",
       "      <td>145.850006</td>\n",
       "      <td>0.0</td>\n",
       "      <td>146.178406</td>\n",
       "      <td>145.720505</td>\n",
       "      <td>145.889999</td>\n",
       "      <td>0.0</td>\n",
       "      <td>623706.0</td>\n",
       "      <td>0.305946</td>\n",
       "      <td>0.371698</td>\n",
       "      <td>-0.999048</td>\n",
       "      <td>-0.000333</td>\n",
       "      <td>0.571113</td>\n",
       "    </tr>\n",
       "  </tbody>\n",
       "</table>\n",
       "</div>"
      ],
      "text/plain": [
       "    Adj Close       Close  Dividends        High         Low        Open  \\\n",
       "0  146.050003  146.050003        0.0  146.100006  145.750000  145.828598   \n",
       "1  146.098099  146.098099        0.0  146.199997  145.914993  146.042099   \n",
       "2  145.779907  145.779907        0.0  146.085007  145.759995  146.085007   \n",
       "3  145.898605  145.898605        0.0  145.970001  145.750198  145.779907   \n",
       "4  145.850006  145.850006        0.0  146.178406  145.720505  145.889999   \n",
       "\n",
       "   Stock Splits    Volume       adx       atr   day sin   returns       rsi  \n",
       "0           0.0  605769.0  0.343013  0.387335 -0.999048  0.001526  0.701828  \n",
       "1           0.0  571215.0  0.338793  0.380085 -0.999762  0.000329  0.697250  \n",
       "2           0.0  448473.0  0.323179  0.376199 -1.000000 -0.002178  0.657009  \n",
       "3           0.0  447584.0  0.308843  0.365207 -0.999762  0.000814  0.574970  \n",
       "4           0.0  623706.0  0.305946  0.371698 -0.999048 -0.000333  0.571113  "
      ]
     },
     "execution_count": 4,
     "metadata": {},
     "output_type": "execute_result"
    }
   ],
   "source": [
    "portfolio['stocks']['AMD'].head()"
   ]
  },
  {
   "cell_type": "markdown",
   "metadata": {},
   "source": [
    "The model will predict:\n",
    "\n",
    "- rsi\n",
    "- adx\n",
    "\n",
    "And the necessary data to calculate the Sortino ratio of the ticker:\n",
    "\n",
    "- Adj Close\n",
    "\n",
    "Using **all** of the variables in a 6-window periodn from that specific stock (df)\n",
    "\n",
    "| $\\hat{x}$<sub>t-5</sub> | $\\hat{x}$<sub>t-4</sub> | $\\hat{x}$<sub>t-3</sub> | $\\hat{x}$<sub>t-2</sub> | $\\hat{x}$<sub>t-1</sub> | $\\hat{x}$<sub>t</sub> | $\\hat{y}$ |\n",
    "|:---:|:---:|:---:|:---:|:---:|:---:|---:|\n",
    "| df.iloc[ 0, : ] | df.iloc[ 1, : ] | df.iloc[ 2, : ] | df.iloc[ 3, : ] | df.iloc[ 4, : ] | df.iloc[ 5, : ] | [rsi<sub>6</sub>, adx<sub>6</sub>, Adj_Close<sub>6</sub>] |\n",
    "| df.iloc[ 1, : ] | df.iloc[ 2, : ] | df.iloc[ 3, : ] | df.iloc[ 4, : ] | df.iloc[ 5, : ] | df.iloc[ 6, : ] | [rsi<sub>7</sub>, adx<sub>7</sub>, Adj_Close<sub>7</sub>] |\n",
    "| df.iloc[ 2, : ] | df.iloc[ 3, : ] | df.iloc[ 4, : ] | df.iloc[ 5, : ] | df.iloc[ 6, : ] | df.iloc[ 7, : ] | [rsi<sub>8</sub>, adx<sub>8</sub>, Adj_Close<sub>8</sub>] |\n",
    "| df.iloc[ 3, : ] | df.iloc[ 4, : ] | df.iloc[ 5, : ] | df.iloc[ 6, : ] | df.iloc[ 7, : ] | df.iloc[ 8, : ] | [rsi<sub>9</sub>, adx<sub>9</sub>, Adj_Close<sub>9</sub>] |\n",
    "| ... | ... | ... | ... | ... | ... | ... |"
   ]
  },
  {
   "cell_type": "markdown",
   "metadata": {},
   "source": [
    "## Split the data"
   ]
  },
  {
   "cell_type": "code",
   "execution_count": 5,
   "metadata": {},
   "outputs": [
    {
     "data": {
      "text/plain": [
       "((3052, 6, 13), (3052, 3))"
      ]
     },
     "execution_count": 5,
     "metadata": {},
     "output_type": "execute_result"
    }
   ],
   "source": [
    "df = portfolio['stocks']['AMD'].copy()\n",
    "targets = df.loc[:, ['rsi', 'adx', 'Adj Close']].to_numpy()\n",
    "df = df.to_numpy()\n",
    "X = []\n",
    "Y = []\n",
    "window = 6\n",
    "\n",
    "for i in range(len(df)-window):\n",
    "    r = [x for x in df[i:i+window]]\n",
    "    X.append(r)\n",
    "    Y.append(targets[i+window])\n",
    "\n",
    "X = np.array(X)\n",
    "Y = np.array(Y)\n",
    "\n",
    "X.shape, Y.shape"
   ]
  },
  {
   "cell_type": "code",
   "execution_count": 29,
   "metadata": {},
   "outputs": [],
   "source": [
    "idx = 8*int(X.shape[0]/10)\n",
    "X_train = X[:idx, :, :]\n",
    "Y_train = Y[:idx, :]\n",
    "X_test =  X[idx:, :, :]\n",
    "Y_test =  Y[idx:, :]"
   ]
  },
  {
   "cell_type": "code",
   "execution_count": 30,
   "metadata": {},
   "outputs": [
    {
     "data": {
      "text/plain": [
       "((2440, 6, 13), (612, 6, 13))"
      ]
     },
     "execution_count": 30,
     "metadata": {},
     "output_type": "execute_result"
    }
   ],
   "source": [
    "X_train.shape, X_test.shape"
   ]
  },
  {
   "cell_type": "markdown",
   "metadata": {},
   "source": []
  },
  {
   "cell_type": "code",
   "execution_count": null,
   "metadata": {},
   "outputs": [],
   "source": []
  }
 ],
 "metadata": {
  "kernelspec": {
   "display_name": "AlgoTrading",
   "language": "python",
   "name": "python3"
  },
  "language_info": {
   "codemirror_mode": {
    "name": "ipython",
    "version": 3
   },
   "file_extension": ".py",
   "mimetype": "text/x-python",
   "name": "python",
   "nbconvert_exporter": "python",
   "pygments_lexer": "ipython3",
   "version": "3.11.7"
  }
 },
 "nbformat": 4,
 "nbformat_minor": 2
}
