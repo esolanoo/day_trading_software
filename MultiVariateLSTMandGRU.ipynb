{
 "cells": [
  {
   "cell_type": "markdown",
   "metadata": {},
   "source": [
    "# LSTM\n",
    "\n",
    "## INTRO\n",
    "\n",
    "Long Short-Term Memory (LSTM) is a type of recurrent neural network (RNN) architecture designed to handle sequence prediction problems. It is particularly effective in capturing long-term dependencies in sequential data.\n",
    "\n",
    "- Sequential Input: LSTM processes input data sequentially, one element at a time, while maintaining an internal state.\n",
    "- Forget Gate: At each time step, the LSTM decides what information to keep or forget from the internal state. This is done using a \"forget gate\" that takes the input and the previous state as inputs and outputs a number between 0 and 1 for each element in the internal state. A value of 1 means \"keep this\" and 0 means \"forget this\".\n",
    "- Input Gate: Next, the LSTM decides what new information to store in the internal state. This is done through an \"input gate\" that takes the input and the previous state as inputs, processes them, and outputs a new candidate value for the internal state.\n",
    "- Update the State: The internal state is updated by combining the information from the forget gate and the input gate. The forget gate decides what to remove from the state, and the input gate decides what to add.\n",
    "- Output Gate: Finally, the LSTM decides what to output based on the updated internal state. This is done using an \"output gate\" that takes the input and the current state, processes them, and produces the output for the current time step.\n",
    "\n",
    "# GRU\n",
    "\n",
    "## Intro\n",
    "\n",
    "Gated Recurrent Unit (GRU) is another type of recurrent neural network (RNN) architecture, similar to LSTM but somewhat simpler. It is designed to capture dependencies in sequential data.\n",
    "\n",
    "- Update Gate: GRU has an update gate that controls how much of the previous state to keep and how much of the new state to add. It takes the input and the previous state, processes them, and decides what information to update in the current state.\n",
    "- Reset Gate: There's also a reset gate that helps the model decide how much of the previous state to forget. It takes the input and the previous state, processes them, and decides what information to reset.\n",
    "- Current Memory: GRU computes a new current memory based on the input, the previous state, and the update gate. It decides how much of the previous state to keep and how much of the new state to add.\n",
    "- Output: Finally, GRU produces an output based on the current memory. This output can be used for predictions or passed to the next time step as input.\n",
    "\n",
    "\n",
    "### Tensorflow\n",
    "\n",
    "For the sake of my sanity, I am not building the models. Luckily, **Tensorflow.keras** comes with a semi-built-in option to construct RNNs with either/both methods (ore even some extra steps)."
   ]
  },
  {
   "cell_type": "code",
   "execution_count": 54,
   "metadata": {},
   "outputs": [],
   "source": [
    "import tensorflow as tf\n",
    "import pandas as pd\n",
    "import numpy as np\n",
    "from tensorflow.keras.models import Sequential\n",
    "from tensorflow.keras.layers import *\n",
    "from tensorflow.keras.callbacks import ModelCheckpoint\n",
    "from tensorflow.keras.losses import MeanSquaredError\n",
    "from tensorflow.keras.metrics import RootMeanSquaredError\n",
    "from tensorflow.keras.optimizers import Adam\n",
    "\n",
    "from data_funcs import *"
   ]
  },
  {
   "cell_type": "code",
   "execution_count": 55,
   "metadata": {},
   "outputs": [
    {
     "name": "stderr",
     "output_type": "stream",
     "text": [
      "100%|██████████| 31/31 [00:03<00:00,  7.94it/s]\n"
     ]
    }
   ],
   "source": [
    "portfolio_dict, portfolio = get_data()"
   ]
  },
  {
   "cell_type": "code",
   "execution_count": 56,
   "metadata": {},
   "outputs": [
    {
     "data": {
      "text/html": [
       "<div>\n",
       "<style scoped>\n",
       "    .dataframe tbody tr th:only-of-type {\n",
       "        vertical-align: middle;\n",
       "    }\n",
       "\n",
       "    .dataframe tbody tr th {\n",
       "        vertical-align: top;\n",
       "    }\n",
       "\n",
       "    .dataframe thead th {\n",
       "        text-align: right;\n",
       "    }\n",
       "</style>\n",
       "<table border=\"1\" class=\"dataframe\">\n",
       "  <thead>\n",
       "    <tr style=\"text-align: right;\">\n",
       "      <th></th>\n",
       "      <th>Adj Close</th>\n",
       "      <th>Close</th>\n",
       "      <th>High</th>\n",
       "      <th>Low</th>\n",
       "      <th>Open</th>\n",
       "      <th>Volume</th>\n",
       "      <th>day sin</th>\n",
       "      <th>returns</th>\n",
       "    </tr>\n",
       "  </thead>\n",
       "  <tbody>\n",
       "    <tr>\n",
       "      <th>0</th>\n",
       "      <td>148.809998</td>\n",
       "      <td>148.809998</td>\n",
       "      <td>150.880005</td>\n",
       "      <td>148.740005</td>\n",
       "      <td>149.038605</td>\n",
       "      <td>2271179.0</td>\n",
       "      <td>-0.625923</td>\n",
       "      <td>-0.001543</td>\n",
       "    </tr>\n",
       "    <tr>\n",
       "      <th>1</th>\n",
       "      <td>147.755005</td>\n",
       "      <td>147.755005</td>\n",
       "      <td>149.020004</td>\n",
       "      <td>147.705505</td>\n",
       "      <td>148.800003</td>\n",
       "      <td>2178869.0</td>\n",
       "      <td>-0.642788</td>\n",
       "      <td>-0.007090</td>\n",
       "    </tr>\n",
       "    <tr>\n",
       "      <th>2</th>\n",
       "      <td>147.789993</td>\n",
       "      <td>147.789993</td>\n",
       "      <td>148.065399</td>\n",
       "      <td>147.250000</td>\n",
       "      <td>147.755005</td>\n",
       "      <td>1698140.0</td>\n",
       "      <td>-0.659346</td>\n",
       "      <td>0.000237</td>\n",
       "    </tr>\n",
       "    <tr>\n",
       "      <th>3</th>\n",
       "      <td>147.331802</td>\n",
       "      <td>147.331802</td>\n",
       "      <td>147.789993</td>\n",
       "      <td>147.119995</td>\n",
       "      <td>147.770004</td>\n",
       "      <td>1377528.0</td>\n",
       "      <td>-0.675590</td>\n",
       "      <td>-0.003100</td>\n",
       "    </tr>\n",
       "    <tr>\n",
       "      <th>4</th>\n",
       "      <td>147.470001</td>\n",
       "      <td>147.470001</td>\n",
       "      <td>147.559998</td>\n",
       "      <td>146.649994</td>\n",
       "      <td>147.339996</td>\n",
       "      <td>1586776.0</td>\n",
       "      <td>-0.691513</td>\n",
       "      <td>0.000938</td>\n",
       "    </tr>\n",
       "  </tbody>\n",
       "</table>\n",
       "</div>"
      ],
      "text/plain": [
       "    Adj Close       Close        High         Low        Open     Volume  \\\n",
       "0  148.809998  148.809998  150.880005  148.740005  149.038605  2271179.0   \n",
       "1  147.755005  147.755005  149.020004  147.705505  148.800003  2178869.0   \n",
       "2  147.789993  147.789993  148.065399  147.250000  147.755005  1698140.0   \n",
       "3  147.331802  147.331802  147.789993  147.119995  147.770004  1377528.0   \n",
       "4  147.470001  147.470001  147.559998  146.649994  147.339996  1586776.0   \n",
       "\n",
       "    day sin   returns  \n",
       "0 -0.625923 -0.001543  \n",
       "1 -0.642788 -0.007090  \n",
       "2 -0.659346  0.000237  \n",
       "3 -0.675590 -0.003100  \n",
       "4 -0.691513  0.000938  "
      ]
     },
     "execution_count": 56,
     "metadata": {},
     "output_type": "execute_result"
    }
   ],
   "source": [
    "portfolio['stocks']['AMD'].head()"
   ]
  },
  {
   "cell_type": "markdown",
   "metadata": {},
   "source": [
    "The model will predict the necesary data to calculate the KPIs and performance meassures:\n",
    "\n",
    "- High\n",
    "- Low\n",
    "- Close\n",
    "- Adj Close\n",
    "\n",
    "Using **all** of the variables in a 6-window periodn from that specific stock (df)\n",
    "\n",
    "| $\\hat{x}$<sub>t-5</sub> | $\\hat{x}$<sub>t-4</sub> | $\\hat{x}$<sub>t-3</sub> | $\\hat{x}$<sub>t-2</sub> | $\\hat{x}$<sub>t-1</sub> | $\\hat{x}$<sub>t</sub> | $\\hat{y}$ |\n",
    "|:---:|:---:|:---:|:---:|:---:|:---:|:---:|\n",
    "| df.iloc[ 0, : ] | df.iloc[ 1, : ] | df.iloc[ 2, : ] | df.iloc[ 3, : ] | df.iloc[ 4, : ] | df.iloc[ 5, : ] | [High<sub>6</sub>, Low<sub>6</sub>, Close<sub>6</sub>, Adj_Close<sub>6</sub>] |\n",
    "| df.iloc[ 1, : ] | df.iloc[ 2, : ] | df.iloc[ 3, : ] | df.iloc[ 4, : ] | df.iloc[ 5, : ] | df.iloc[ 6, : ] | [High<sub>7</sub>, Low<sub>7</sub>, Close<sub>7</sub>, Adj_Close<sub>7</sub>] |\n",
    "| df.iloc[ 2, : ] | df.iloc[ 3, : ] | df.iloc[ 4, : ] | df.iloc[ 5, : ] | df.iloc[ 6, : ] | df.iloc[ 7, : ] | [High<sub>8</sub>, Low<sub>8</sub>, Close<sub>8</sub>, Adj_Close<sub>8</sub>] |\n",
    "| df.iloc[ 3, : ] | df.iloc[ 4, : ] | df.iloc[ 5, : ] | df.iloc[ 6, : ] | df.iloc[ 7, : ] | df.iloc[ 8, : ] | [High<sub>9</sub>, Low<sub>9</sub>, Close<sub>9</sub>, Adj_Close<sub>9</sub>] |\n",
    "| ... | ... | ... | ... | ... | ... | ... |"
   ]
  },
  {
   "cell_type": "markdown",
   "metadata": {},
   "source": [
    "## Split the data"
   ]
  },
  {
   "cell_type": "code",
   "execution_count": 57,
   "metadata": {},
   "outputs": [
    {
     "data": {
      "text/plain": [
       "((3089, 6, 8), (3089, 4))"
      ]
     },
     "execution_count": 57,
     "metadata": {},
     "output_type": "execute_result"
    }
   ],
   "source": [
    "df = portfolio['stocks']['AMD'].copy()\n",
    "targets = df.loc[:, ['High', 'Low', 'Close', 'Adj Close']].to_numpy()\n",
    "df = df.to_numpy()\n",
    "X = []\n",
    "Y = []\n",
    "window = 6\n",
    "\n",
    "for i in range(len(df)-window):\n",
    "    r = [x for x in df[i:i+window]]\n",
    "    X.append(r)\n",
    "    Y.append(targets[i+window])\n",
    "\n",
    "X = np.array(X)\n",
    "Y = np.array(Y)\n",
    "\n",
    "X.shape, Y.shape"
   ]
  },
  {
   "cell_type": "code",
   "execution_count": 58,
   "metadata": {},
   "outputs": [
    {
     "data": {
      "text/plain": [
       "((2464, 6, 8), (625, 4))"
      ]
     },
     "execution_count": 58,
     "metadata": {},
     "output_type": "execute_result"
    }
   ],
   "source": [
    "idx = 8*int(X.shape[0]/10)\n",
    "X_train = X[:idx, :, :]\n",
    "Y_train = Y[:idx, :]\n",
    "X_test =  X[idx:, :, :]\n",
    "Y_test =  Y[idx:, :]\n",
    "\n",
    "X_train.shape, Y_test.shape"
   ]
  },
  {
   "cell_type": "markdown",
   "metadata": {},
   "source": [
    "## Standarization"
   ]
  },
  {
   "cell_type": "code",
   "execution_count": 59,
   "metadata": {},
   "outputs": [],
   "source": [
    "x_means = [np.mean(X_train[:, :, i]) for i in range(X_train.shape[2])]\n",
    "x_stds = [np.std(X_train[:, :, i]) for i in range(X_train.shape[2])]\n",
    "\n",
    "X_train_p = (X_train-x_means)/x_stds\n",
    "X_test_p = (X_test-x_means)/x_stds\n",
    "    \n",
    "y_means = [np.mean(Y_train[:, i]) for i in range(Y_train.shape[1])]\n",
    "y_stds = [np.std(Y_train[:, i]) for i in range(Y_train.shape[1])]\n",
    "\n",
    "Y_train_p = (Y_train-y_means)/y_stds\n",
    "Y_test_p = (Y_test-y_means)/y_stds"
   ]
  },
  {
   "cell_type": "markdown",
   "metadata": {},
   "source": [
    "## Turn everything into a func"
   ]
  },
  {
   "cell_type": "code",
   "execution_count": 60,
   "metadata": {},
   "outputs": [],
   "source": [
    "def preprocess(DF, window=6):\n",
    "    df = DF.copy()\n",
    "    targets = df.loc[:, ['High', 'Low', 'Close', 'Adj Close']].to_numpy()\n",
    "    df = df.to_numpy()\n",
    "    X = []\n",
    "    Y = []\n",
    "\n",
    "    for i in range(len(df)-window):\n",
    "        r = [x for x in df[i:i+window]]\n",
    "        X.append(r)\n",
    "        Y.append(targets[i+window])\n",
    "\n",
    "    X = np.array(X)\n",
    "    Y = np.array(Y)\n",
    "    \n",
    "    idx = 7*int(X.shape[0]/10)\n",
    "    idx2 = 9*int(X.shape[0]/10)\n",
    "    X_train = X[:idx, :, :]\n",
    "    Y_train = Y[:idx, :]\n",
    "    X_test =  X[idx:idx2, :, :]\n",
    "    Y_test =  Y[idx:idx2, :]\n",
    "    X_val =  X[idx2:, :, :]\n",
    "    Y_val =  Y[idx2:, :]\n",
    "    \n",
    "    x_means = [np.mean(X_train[:, :, i]) for i in range(X_train.shape[2])]\n",
    "    x_stds = np.array([np.std(X_train[:, :, i]) for i in range(X_train.shape[2])])\n",
    "    x_stds = np.where(x_stds == 0, 1, x_stds)\n",
    "\n",
    "    X_train_p = (X_train-x_means)/x_stds\n",
    "    X_test_p = (X_test-x_means)/x_stds\n",
    "    X_val_p = (X_val-x_means)/x_stds\n",
    "        \n",
    "    y_means = [np.mean(Y_train[:, i]) for i in range(Y_train.shape[1])]\n",
    "    y_stds = [np.std(Y_train[:, i]) for i in range(Y_train.shape[1])]\n",
    "\n",
    "    Y_train_p = (Y_train-y_means)/y_stds\n",
    "    Y_test_p = (Y_test-y_means)/y_stds\n",
    "    Y_val_p = (Y_val-y_means)/y_stds\n",
    "    \n",
    "    return [X_train_p, X_test_p, X_val_p, x_means, x_stds], [Y_train_p, Y_test_p, Y_val_p, y_means, y_stds]"
   ]
  },
  {
   "cell_type": "code",
   "execution_count": 61,
   "metadata": {},
   "outputs": [],
   "source": [
    "X, Y = {}, {}\n",
    "\n",
    "for eq in portfolio_dict:\n",
    "    for tckr in portfolio_dict[eq]:\n",
    "        X[tckr], Y[tckr] = preprocess(portfolio[eq][tckr])"
   ]
  },
  {
   "cell_type": "markdown",
   "metadata": {},
   "source": [
    "# Models\n",
    "\n",
    "Because of the nature of the diversification, the project aims to buils a model for each type of equity. If computational load is not an issue, a model for every ticker would be better"
   ]
  },
  {
   "cell_type": "code",
   "execution_count": 62,
   "metadata": {},
   "outputs": [],
   "source": [
    "models, checkpoints = {}, {}\n",
    "\n",
    "for eq in portfolio_dict:\n",
    "    for stck in portfolio_dict[eq]: \n",
    "        models[stck] = Sequential()\n",
    "        models[stck].add(InputLayer((6, 8)))\n",
    "        models[stck].add(LSTM(64))\n",
    "        models[stck].add(Dense(8, 'relu'))\n",
    "        models[stck].add(Dense(4, 'linear'))\n",
    "        checkpoints[stck] = ModelCheckpoint('{}/'.format(stck), save_best_only=True)"
   ]
  },
  {
   "cell_type": "code",
   "execution_count": 63,
   "metadata": {},
   "outputs": [
    {
     "name": "stdout",
     "output_type": "stream",
     "text": [
      "Model: \"sequential_52\"\n",
      "_________________________________________________________________\n",
      " Layer (type)                Output Shape              Param #   \n",
      "=================================================================\n",
      " lstm_52 (LSTM)              (None, 64)                18688     \n",
      "                                                                 \n",
      " dense_104 (Dense)           (None, 8)                 520       \n",
      "                                                                 \n",
      " dense_105 (Dense)           (None, 4)                 36        \n",
      "                                                                 \n",
      "=================================================================\n",
      "Total params: 19244 (75.17 KB)\n",
      "Trainable params: 19244 (75.17 KB)\n",
      "Non-trainable params: 0 (0.00 Byte)\n",
      "_________________________________________________________________\n"
     ]
    }
   ],
   "source": [
    "models['VOO'].summary()"
   ]
  },
  {
   "cell_type": "code",
   "execution_count": 65,
   "metadata": {},
   "outputs": [
    {
     "name": "stdout",
     "output_type": "stream",
     "text": [
      "AMD\n",
      "Epoch 1/3\n",
      "61/68 [=========================>....] - ETA: 0s - loss: 0.2287 - root_mean_squared_error: 0.4783INFO:tensorflow:Assets written to: AMD\\assets\n"
     ]
    },
    {
     "name": "stderr",
     "output_type": "stream",
     "text": [
      "INFO:tensorflow:Assets written to: AMD\\assets\n"
     ]
    },
    {
     "name": "stdout",
     "output_type": "stream",
     "text": [
      "68/68 [==============================] - 6s 59ms/step - loss: 0.2094 - root_mean_squared_error: 0.4576 - val_loss: 0.4383 - val_root_mean_squared_error: 0.6620\n",
      "Epoch 2/3\n",
      "60/68 [=========================>....] - ETA: 0s - loss: 0.0109 - root_mean_squared_error: 0.1046INFO:tensorflow:Assets written to: AMD\\assets\n"
     ]
    },
    {
     "name": "stderr",
     "output_type": "stream",
     "text": [
      "INFO:tensorflow:Assets written to: AMD\\assets\n"
     ]
    },
    {
     "name": "stdout",
     "output_type": "stream",
     "text": [
      "68/68 [==============================] - 4s 55ms/step - loss: 0.0102 - root_mean_squared_error: 0.1010 - val_loss: 0.2511 - val_root_mean_squared_error: 0.5011\n",
      "Epoch 3/3\n",
      "59/68 [=========================>....] - ETA: 0s - loss: 0.0053 - root_mean_squared_error: 0.0725INFO:tensorflow:Assets written to: AMD\\assets\n"
     ]
    },
    {
     "name": "stderr",
     "output_type": "stream",
     "text": [
      "INFO:tensorflow:Assets written to: AMD\\assets\n"
     ]
    },
    {
     "name": "stdout",
     "output_type": "stream",
     "text": [
      "68/68 [==============================] - 5s 69ms/step - loss: 0.0053 - root_mean_squared_error: 0.0729 - val_loss: 0.2165 - val_root_mean_squared_error: 0.4653\n",
      "NEXT \n",
      "\n",
      "BYDDY\n",
      "Epoch 1/3\n",
      "65/68 [===========================>..] - ETA: 0s - loss: 0.4148 - root_mean_squared_error: 0.6441INFO:tensorflow:Assets written to: BYDDY\\assets\n"
     ]
    },
    {
     "name": "stderr",
     "output_type": "stream",
     "text": [
      "INFO:tensorflow:Assets written to: BYDDY\\assets\n"
     ]
    },
    {
     "name": "stdout",
     "output_type": "stream",
     "text": [
      "68/68 [==============================] - 6s 61ms/step - loss: 0.4090 - root_mean_squared_error: 0.6395 - val_loss: 0.0252 - val_root_mean_squared_error: 0.1586\n",
      "Epoch 2/3\n",
      "63/68 [==========================>...] - ETA: 0s - loss: 0.0667 - root_mean_squared_error: 0.2582INFO:tensorflow:Assets written to: BYDDY\\assets\n"
     ]
    },
    {
     "name": "stderr",
     "output_type": "stream",
     "text": [
      "INFO:tensorflow:Assets written to: BYDDY\\assets\n"
     ]
    },
    {
     "name": "stdout",
     "output_type": "stream",
     "text": [
      "68/68 [==============================] - 4s 61ms/step - loss: 0.0630 - root_mean_squared_error: 0.2511 - val_loss: 0.0055 - val_root_mean_squared_error: 0.0743\n",
      "Epoch 3/3\n",
      "63/68 [==========================>...] - ETA: 0s - loss: 0.0075 - root_mean_squared_error: 0.0863INFO:tensorflow:Assets written to: BYDDY\\assets\n"
     ]
    },
    {
     "name": "stderr",
     "output_type": "stream",
     "text": [
      "INFO:tensorflow:Assets written to: BYDDY\\assets\n"
     ]
    },
    {
     "name": "stdout",
     "output_type": "stream",
     "text": [
      "68/68 [==============================] - 6s 84ms/step - loss: 0.0072 - root_mean_squared_error: 0.0849 - val_loss: 0.0040 - val_root_mean_squared_error: 0.0635\n",
      "NEXT \n",
      "\n",
      "ZI\n",
      "Epoch 1/3\n",
      "60/68 [=========================>....] - ETA: 0s - loss: 0.4790 - root_mean_squared_error: 0.6921INFO:tensorflow:Assets written to: ZI\\assets\n"
     ]
    },
    {
     "name": "stderr",
     "output_type": "stream",
     "text": [
      "INFO:tensorflow:Assets written to: ZI\\assets\n"
     ]
    },
    {
     "name": "stdout",
     "output_type": "stream",
     "text": [
      "68/68 [==============================] - 6s 61ms/step - loss: 0.4472 - root_mean_squared_error: 0.6687 - val_loss: 0.3961 - val_root_mean_squared_error: 0.6294\n",
      "Epoch 2/3\n",
      "62/68 [==========================>...] - ETA: 0s - loss: 0.1307 - root_mean_squared_error: 0.3616INFO:tensorflow:Assets written to: ZI\\assets\n"
     ]
    },
    {
     "name": "stderr",
     "output_type": "stream",
     "text": [
      "INFO:tensorflow:Assets written to: ZI\\assets\n"
     ]
    },
    {
     "name": "stdout",
     "output_type": "stream",
     "text": [
      "68/68 [==============================] - 4s 63ms/step - loss: 0.1273 - root_mean_squared_error: 0.3567 - val_loss: 0.1262 - val_root_mean_squared_error: 0.3553\n",
      "Epoch 3/3\n",
      "61/68 [=========================>....] - ETA: 0s - loss: 0.0451 - root_mean_squared_error: 0.2124INFO:tensorflow:Assets written to: ZI\\assets\n"
     ]
    },
    {
     "name": "stderr",
     "output_type": "stream",
     "text": [
      "INFO:tensorflow:Assets written to: ZI\\assets\n"
     ]
    },
    {
     "name": "stdout",
     "output_type": "stream",
     "text": [
      "68/68 [==============================] - 5s 68ms/step - loss: 0.0433 - root_mean_squared_error: 0.2081 - val_loss: 0.0275 - val_root_mean_squared_error: 0.1657\n",
      "NEXT \n",
      "\n",
      "PFE\n",
      "Epoch 1/3\n",
      "62/68 [==========================>...] - ETA: 0s - loss: 0.3911 - root_mean_squared_error: 0.6254INFO:tensorflow:Assets written to: PFE\\assets\n"
     ]
    },
    {
     "name": "stderr",
     "output_type": "stream",
     "text": [
      "INFO:tensorflow:Assets written to: PFE\\assets\n"
     ]
    },
    {
     "name": "stdout",
     "output_type": "stream",
     "text": [
      "68/68 [==============================] - 6s 62ms/step - loss: 0.3750 - root_mean_squared_error: 0.6124 - val_loss: 0.0233 - val_root_mean_squared_error: 0.1527\n",
      "Epoch 2/3\n",
      "67/68 [============================>.] - ETA: 0s - loss: 0.1117 - root_mean_squared_error: 0.3343INFO:tensorflow:Assets written to: PFE\\assets\n"
     ]
    },
    {
     "name": "stderr",
     "output_type": "stream",
     "text": [
      "INFO:tensorflow:Assets written to: PFE\\assets\n"
     ]
    },
    {
     "name": "stdout",
     "output_type": "stream",
     "text": [
      "68/68 [==============================] - 5s 68ms/step - loss: 0.1119 - root_mean_squared_error: 0.3345 - val_loss: 0.0089 - val_root_mean_squared_error: 0.0942\n",
      "Epoch 3/3\n",
      "65/68 [===========================>..] - ETA: 0s - loss: 0.0419 - root_mean_squared_error: 0.2046INFO:tensorflow:Assets written to: PFE\\assets\n"
     ]
    },
    {
     "name": "stderr",
     "output_type": "stream",
     "text": [
      "INFO:tensorflow:Assets written to: PFE\\assets\n"
     ]
    },
    {
     "name": "stdout",
     "output_type": "stream",
     "text": [
      "68/68 [==============================] - 4s 64ms/step - loss: 0.0416 - root_mean_squared_error: 0.2040 - val_loss: 0.0067 - val_root_mean_squared_error: 0.0820\n",
      "NEXT \n",
      "\n",
      "NU\n",
      "Epoch 1/3\n",
      "66/68 [============================>.] - ETA: 0s - loss: 0.3572 - root_mean_squared_error: 0.5977INFO:tensorflow:Assets written to: NU\\assets\n"
     ]
    },
    {
     "name": "stderr",
     "output_type": "stream",
     "text": [
      "INFO:tensorflow:Assets written to: NU\\assets\n"
     ]
    },
    {
     "name": "stdout",
     "output_type": "stream",
     "text": [
      "68/68 [==============================] - 7s 66ms/step - loss: 0.3506 - root_mean_squared_error: 0.5921 - val_loss: 1.1994 - val_root_mean_squared_error: 1.0952\n",
      "Epoch 2/3\n",
      "63/68 [==========================>...] - ETA: 0s - loss: 0.0176 - root_mean_squared_error: 0.1327INFO:tensorflow:Assets written to: NU\\assets\n"
     ]
    },
    {
     "name": "stderr",
     "output_type": "stream",
     "text": [
      "INFO:tensorflow:Assets written to: NU\\assets\n"
     ]
    },
    {
     "name": "stdout",
     "output_type": "stream",
     "text": [
      "68/68 [==============================] - 4s 60ms/step - loss: 0.0169 - root_mean_squared_error: 0.1301 - val_loss: 0.6480 - val_root_mean_squared_error: 0.8050\n",
      "Epoch 3/3\n",
      "64/68 [===========================>..] - ETA: 0s - loss: 0.0070 - root_mean_squared_error: 0.0834INFO:tensorflow:Assets written to: NU\\assets\n"
     ]
    },
    {
     "name": "stderr",
     "output_type": "stream",
     "text": [
      "INFO:tensorflow:Assets written to: NU\\assets\n"
     ]
    },
    {
     "name": "stdout",
     "output_type": "stream",
     "text": [
      "68/68 [==============================] - 4s 65ms/step - loss: 0.0070 - root_mean_squared_error: 0.0834 - val_loss: 0.5232 - val_root_mean_squared_error: 0.7233\n",
      "NEXT \n",
      "\n",
      "WMT\n",
      "Epoch 1/3\n",
      "61/68 [=========================>....] - ETA: 0s - loss: 0.5457 - root_mean_squared_error: 0.7387INFO:tensorflow:Assets written to: WMT\\assets\n"
     ]
    },
    {
     "name": "stderr",
     "output_type": "stream",
     "text": [
      "INFO:tensorflow:Assets written to: WMT\\assets\n"
     ]
    },
    {
     "name": "stdout",
     "output_type": "stream",
     "text": [
      "68/68 [==============================] - 6s 62ms/step - loss: 0.5233 - root_mean_squared_error: 0.7234 - val_loss: 0.4648 - val_root_mean_squared_error: 0.6818\n",
      "Epoch 2/3\n",
      "63/68 [==========================>...] - ETA: 0s - loss: 0.2052 - root_mean_squared_error: 0.4529INFO:tensorflow:Assets written to: WMT\\assets\n"
     ]
    },
    {
     "name": "stderr",
     "output_type": "stream",
     "text": [
      "INFO:tensorflow:Assets written to: WMT\\assets\n"
     ]
    },
    {
     "name": "stdout",
     "output_type": "stream",
     "text": [
      "68/68 [==============================] - 4s 60ms/step - loss: 0.2043 - root_mean_squared_error: 0.4520 - val_loss: 0.0593 - val_root_mean_squared_error: 0.2434\n",
      "Epoch 3/3\n",
      "68/68 [==============================] - 0s 5ms/step - loss: 0.1219 - root_mean_squared_error: 0.3491 - val_loss: 0.0793 - val_root_mean_squared_error: 0.2816\n",
      "NEXT \n",
      "\n",
      "F\n",
      "Epoch 1/3\n",
      "61/68 [=========================>....] - ETA: 0s - loss: 0.4010 - root_mean_squared_error: 0.6332INFO:tensorflow:Assets written to: F\\assets\n"
     ]
    },
    {
     "name": "stderr",
     "output_type": "stream",
     "text": [
      "INFO:tensorflow:Assets written to: F\\assets\n"
     ]
    },
    {
     "name": "stdout",
     "output_type": "stream",
     "text": [
      "68/68 [==============================] - 6s 66ms/step - loss: 0.3837 - root_mean_squared_error: 0.6194 - val_loss: 0.0099 - val_root_mean_squared_error: 0.0993\n",
      "Epoch 2/3\n",
      "68/68 [==============================] - ETA: 0s - loss: 0.1490 - root_mean_squared_error: 0.3860INFO:tensorflow:Assets written to: F\\assets\n"
     ]
    },
    {
     "name": "stderr",
     "output_type": "stream",
     "text": [
      "INFO:tensorflow:Assets written to: F\\assets\n"
     ]
    },
    {
     "name": "stdout",
     "output_type": "stream",
     "text": [
      "68/68 [==============================] - 6s 88ms/step - loss: 0.1490 - root_mean_squared_error: 0.3860 - val_loss: 0.0042 - val_root_mean_squared_error: 0.0646\n",
      "Epoch 3/3\n",
      "68/68 [==============================] - 0s 5ms/step - loss: 0.0610 - root_mean_squared_error: 0.2470 - val_loss: 0.0067 - val_root_mean_squared_error: 0.0817\n",
      "NEXT \n",
      "\n",
      "GOOGL\n",
      "Epoch 1/3\n",
      "58/68 [========================>.....] - ETA: 0s - loss: 0.5085 - root_mean_squared_error: 0.7131INFO:tensorflow:Assets written to: GOOGL\\assets\n"
     ]
    },
    {
     "name": "stderr",
     "output_type": "stream",
     "text": [
      "INFO:tensorflow:Assets written to: GOOGL\\assets\n"
     ]
    },
    {
     "name": "stdout",
     "output_type": "stream",
     "text": [
      "68/68 [==============================] - 7s 67ms/step - loss: 0.4621 - root_mean_squared_error: 0.6797 - val_loss: 0.1478 - val_root_mean_squared_error: 0.3844\n",
      "Epoch 2/3\n",
      "56/68 [=======================>......] - ETA: 0s - loss: 0.0546 - root_mean_squared_error: 0.2336INFO:tensorflow:Assets written to: GOOGL\\assets\n"
     ]
    },
    {
     "name": "stderr",
     "output_type": "stream",
     "text": [
      "INFO:tensorflow:Assets written to: GOOGL\\assets\n"
     ]
    },
    {
     "name": "stdout",
     "output_type": "stream",
     "text": [
      "68/68 [==============================] - 5s 72ms/step - loss: 0.0470 - root_mean_squared_error: 0.2168 - val_loss: 0.0792 - val_root_mean_squared_error: 0.2814\n",
      "Epoch 3/3\n",
      "62/68 [==========================>...] - ETA: 0s - loss: 0.0108 - root_mean_squared_error: 0.1038INFO:tensorflow:Assets written to: GOOGL\\assets\n"
     ]
    },
    {
     "name": "stderr",
     "output_type": "stream",
     "text": [
      "INFO:tensorflow:Assets written to: GOOGL\\assets\n"
     ]
    },
    {
     "name": "stdout",
     "output_type": "stream",
     "text": [
      "68/68 [==============================] - 5s 73ms/step - loss: 0.0104 - root_mean_squared_error: 0.1018 - val_loss: 0.0521 - val_root_mean_squared_error: 0.2283\n",
      "NEXT \n",
      "\n",
      "Z\n",
      "Epoch 1/3\n",
      "57/68 [========================>.....] - ETA: 0s - loss: 0.4163 - root_mean_squared_error: 0.6452INFO:tensorflow:Assets written to: Z\\assets\n"
     ]
    },
    {
     "name": "stderr",
     "output_type": "stream",
     "text": [
      "INFO:tensorflow:Assets written to: Z\\assets\n"
     ]
    },
    {
     "name": "stdout",
     "output_type": "stream",
     "text": [
      "68/68 [==============================] - 8s 81ms/step - loss: 0.3653 - root_mean_squared_error: 0.6044 - val_loss: 0.0158 - val_root_mean_squared_error: 0.1258\n",
      "Epoch 2/3\n",
      "68/68 [==============================] - ETA: 0s - loss: 0.0445 - root_mean_squared_error: 0.2110INFO:tensorflow:Assets written to: Z\\assets\n"
     ]
    },
    {
     "name": "stderr",
     "output_type": "stream",
     "text": [
      "INFO:tensorflow:Assets written to: Z\\assets\n"
     ]
    },
    {
     "name": "stdout",
     "output_type": "stream",
     "text": [
      "68/68 [==============================] - 5s 67ms/step - loss: 0.0445 - root_mean_squared_error: 0.2110 - val_loss: 0.0073 - val_root_mean_squared_error: 0.0852\n",
      "Epoch 3/3\n",
      "65/68 [===========================>..] - ETA: 0s - loss: 0.0172 - root_mean_squared_error: 0.1312INFO:tensorflow:Assets written to: Z\\assets\n"
     ]
    },
    {
     "name": "stderr",
     "output_type": "stream",
     "text": [
      "INFO:tensorflow:Assets written to: Z\\assets\n"
     ]
    },
    {
     "name": "stdout",
     "output_type": "stream",
     "text": [
      "68/68 [==============================] - 5s 71ms/step - loss: 0.0175 - root_mean_squared_error: 0.1321 - val_loss: 0.0062 - val_root_mean_squared_error: 0.0788\n",
      "NEXT \n",
      "\n",
      "NVDA\n",
      "Epoch 1/3\n",
      "62/68 [==========================>...] - ETA: 0s - loss: 0.4282 - root_mean_squared_error: 0.6544INFO:tensorflow:Assets written to: NVDA\\assets\n"
     ]
    },
    {
     "name": "stderr",
     "output_type": "stream",
     "text": [
      "INFO:tensorflow:Assets written to: NVDA\\assets\n"
     ]
    },
    {
     "name": "stdout",
     "output_type": "stream",
     "text": [
      "68/68 [==============================] - 7s 69ms/step - loss: 0.4001 - root_mean_squared_error: 0.6326 - val_loss: 1.3063 - val_root_mean_squared_error: 1.1429\n",
      "Epoch 2/3\n",
      "61/68 [=========================>....] - ETA: 0s - loss: 0.0260 - root_mean_squared_error: 0.1612INFO:tensorflow:Assets written to: NVDA\\assets\n"
     ]
    },
    {
     "name": "stderr",
     "output_type": "stream",
     "text": [
      "INFO:tensorflow:Assets written to: NVDA\\assets\n"
     ]
    },
    {
     "name": "stdout",
     "output_type": "stream",
     "text": [
      "68/68 [==============================] - 4s 61ms/step - loss: 0.0242 - root_mean_squared_error: 0.1557 - val_loss: 0.6602 - val_root_mean_squared_error: 0.8125\n",
      "Epoch 3/3\n",
      "61/68 [=========================>....] - ETA: 0s - loss: 0.0036 - root_mean_squared_error: 0.0601INFO:tensorflow:Assets written to: NVDA\\assets\n"
     ]
    },
    {
     "name": "stderr",
     "output_type": "stream",
     "text": [
      "INFO:tensorflow:Assets written to: NVDA\\assets\n"
     ]
    },
    {
     "name": "stdout",
     "output_type": "stream",
     "text": [
      "68/68 [==============================] - 5s 67ms/step - loss: 0.0035 - root_mean_squared_error: 0.0592 - val_loss: 0.4522 - val_root_mean_squared_error: 0.6725\n",
      "NEXT \n",
      "\n",
      "MRNA\n",
      "Epoch 1/3\n",
      "62/68 [==========================>...] - ETA: 0s - loss: 0.4874 - root_mean_squared_error: 0.6981INFO:tensorflow:Assets written to: MRNA\\assets\n"
     ]
    },
    {
     "name": "stderr",
     "output_type": "stream",
     "text": [
      "INFO:tensorflow:Assets written to: MRNA\\assets\n"
     ]
    },
    {
     "name": "stdout",
     "output_type": "stream",
     "text": [
      "68/68 [==============================] - 7s 77ms/step - loss: 0.4631 - root_mean_squared_error: 0.6805 - val_loss: 0.2000 - val_root_mean_squared_error: 0.4473\n",
      "Epoch 2/3\n",
      "67/68 [============================>.] - ETA: 0s - loss: 0.0847 - root_mean_squared_error: 0.2910INFO:tensorflow:Assets written to: MRNA\\assets\n"
     ]
    },
    {
     "name": "stderr",
     "output_type": "stream",
     "text": [
      "INFO:tensorflow:Assets written to: MRNA\\assets\n"
     ]
    },
    {
     "name": "stdout",
     "output_type": "stream",
     "text": [
      "68/68 [==============================] - 5s 72ms/step - loss: 0.0843 - root_mean_squared_error: 0.2903 - val_loss: 0.0176 - val_root_mean_squared_error: 0.1328\n",
      "Epoch 3/3\n",
      "61/68 [=========================>....] - ETA: 0s - loss: 0.0076 - root_mean_squared_error: 0.0873INFO:tensorflow:Assets written to: MRNA\\assets\n"
     ]
    },
    {
     "name": "stderr",
     "output_type": "stream",
     "text": [
      "INFO:tensorflow:Assets written to: MRNA\\assets\n"
     ]
    },
    {
     "name": "stdout",
     "output_type": "stream",
     "text": [
      "68/68 [==============================] - 4s 58ms/step - loss: 0.0075 - root_mean_squared_error: 0.0865 - val_loss: 0.0080 - val_root_mean_squared_error: 0.0892\n",
      "NEXT \n",
      "\n",
      "SPY\n",
      "Epoch 1/3\n",
      "61/68 [=========================>....] - ETA: 0s - loss: 0.2757 - root_mean_squared_error: 0.5251INFO:tensorflow:Assets written to: SPY\\assets\n"
     ]
    },
    {
     "name": "stderr",
     "output_type": "stream",
     "text": [
      "INFO:tensorflow:Assets written to: SPY\\assets\n"
     ]
    },
    {
     "name": "stdout",
     "output_type": "stream",
     "text": [
      "68/68 [==============================] - 7s 72ms/step - loss: 0.2537 - root_mean_squared_error: 0.5037 - val_loss: 0.2944 - val_root_mean_squared_error: 0.5426\n",
      "Epoch 2/3\n",
      "63/68 [==========================>...] - ETA: 0s - loss: 0.0274 - root_mean_squared_error: 0.1657INFO:tensorflow:Assets written to: SPY\\assets\n"
     ]
    },
    {
     "name": "stderr",
     "output_type": "stream",
     "text": [
      "INFO:tensorflow:Assets written to: SPY\\assets\n"
     ]
    },
    {
     "name": "stdout",
     "output_type": "stream",
     "text": [
      "68/68 [==============================] - 4s 64ms/step - loss: 0.0262 - root_mean_squared_error: 0.1619 - val_loss: 0.1370 - val_root_mean_squared_error: 0.3701\n",
      "Epoch 3/3\n",
      "62/68 [==========================>...] - ETA: 0s - loss: 0.0067 - root_mean_squared_error: 0.0816INFO:tensorflow:Assets written to: SPY\\assets\n"
     ]
    },
    {
     "name": "stderr",
     "output_type": "stream",
     "text": [
      "INFO:tensorflow:Assets written to: SPY\\assets\n"
     ]
    },
    {
     "name": "stdout",
     "output_type": "stream",
     "text": [
      "68/68 [==============================] - 4s 63ms/step - loss: 0.0064 - root_mean_squared_error: 0.0802 - val_loss: 0.1031 - val_root_mean_squared_error: 0.3210\n",
      "NEXT \n",
      "\n",
      "TQQQ\n",
      "Epoch 1/3\n",
      "60/68 [=========================>....] - ETA: 0s - loss: 0.3606 - root_mean_squared_error: 0.6005INFO:tensorflow:Assets written to: TQQQ\\assets\n"
     ]
    },
    {
     "name": "stderr",
     "output_type": "stream",
     "text": [
      "INFO:tensorflow:Assets written to: TQQQ\\assets\n"
     ]
    },
    {
     "name": "stdout",
     "output_type": "stream",
     "text": [
      "68/68 [==============================] - 9s 99ms/step - loss: 0.3333 - root_mean_squared_error: 0.5773 - val_loss: 0.5325 - val_root_mean_squared_error: 0.7297\n",
      "Epoch 2/3\n",
      "64/68 [===========================>..] - ETA: 0s - loss: 0.0383 - root_mean_squared_error: 0.1958INFO:tensorflow:Assets written to: TQQQ\\assets\n"
     ]
    },
    {
     "name": "stderr",
     "output_type": "stream",
     "text": [
      "INFO:tensorflow:Assets written to: TQQQ\\assets\n"
     ]
    },
    {
     "name": "stdout",
     "output_type": "stream",
     "text": [
      "68/68 [==============================] - 5s 71ms/step - loss: 0.0367 - root_mean_squared_error: 0.1915 - val_loss: 0.0632 - val_root_mean_squared_error: 0.2514\n",
      "Epoch 3/3\n",
      "68/68 [==============================] - ETA: 0s - loss: 0.0062 - root_mean_squared_error: 0.0788INFO:tensorflow:Assets written to: TQQQ\\assets\n"
     ]
    },
    {
     "name": "stderr",
     "output_type": "stream",
     "text": [
      "INFO:tensorflow:Assets written to: TQQQ\\assets\n"
     ]
    },
    {
     "name": "stdout",
     "output_type": "stream",
     "text": [
      "68/68 [==============================] - 4s 60ms/step - loss: 0.0062 - root_mean_squared_error: 0.0788 - val_loss: 0.0255 - val_root_mean_squared_error: 0.1598\n",
      "NEXT \n",
      "\n",
      "IVV\n",
      "Epoch 1/3\n",
      "67/68 [============================>.] - ETA: 0s - loss: 0.3197 - root_mean_squared_error: 0.5654INFO:tensorflow:Assets written to: IVV\\assets\n"
     ]
    },
    {
     "name": "stderr",
     "output_type": "stream",
     "text": [
      "INFO:tensorflow:Assets written to: IVV\\assets\n"
     ]
    },
    {
     "name": "stdout",
     "output_type": "stream",
     "text": [
      "68/68 [==============================] - 7s 72ms/step - loss: 0.3172 - root_mean_squared_error: 0.5632 - val_loss: 0.9560 - val_root_mean_squared_error: 0.9778\n",
      "Epoch 2/3\n",
      "63/68 [==========================>...] - ETA: 0s - loss: 0.0489 - root_mean_squared_error: 0.2211INFO:tensorflow:Assets written to: IVV\\assets\n"
     ]
    },
    {
     "name": "stderr",
     "output_type": "stream",
     "text": [
      "INFO:tensorflow:Assets written to: IVV\\assets\n"
     ]
    },
    {
     "name": "stdout",
     "output_type": "stream",
     "text": [
      "68/68 [==============================] - 4s 64ms/step - loss: 0.0470 - root_mean_squared_error: 0.2167 - val_loss: 0.3573 - val_root_mean_squared_error: 0.5978\n",
      "Epoch 3/3\n",
      "63/68 [==========================>...] - ETA: 0s - loss: 0.0117 - root_mean_squared_error: 0.1083INFO:tensorflow:Assets written to: IVV\\assets\n"
     ]
    },
    {
     "name": "stderr",
     "output_type": "stream",
     "text": [
      "INFO:tensorflow:Assets written to: IVV\\assets\n"
     ]
    },
    {
     "name": "stdout",
     "output_type": "stream",
     "text": [
      "68/68 [==============================] - 4s 64ms/step - loss: 0.0114 - root_mean_squared_error: 0.1066 - val_loss: 0.1723 - val_root_mean_squared_error: 0.4151\n",
      "NEXT \n",
      "\n",
      "VOO\n",
      "Epoch 1/3\n",
      "64/68 [===========================>..] - ETA: 0s - loss: 0.3110 - root_mean_squared_error: 0.5577INFO:tensorflow:Assets written to: VOO\\assets\n"
     ]
    },
    {
     "name": "stderr",
     "output_type": "stream",
     "text": [
      "INFO:tensorflow:Assets written to: VOO\\assets\n"
     ]
    },
    {
     "name": "stdout",
     "output_type": "stream",
     "text": [
      "68/68 [==============================] - 7s 77ms/step - loss: 0.2996 - root_mean_squared_error: 0.5473 - val_loss: 1.2134 - val_root_mean_squared_error: 1.1015\n",
      "Epoch 2/3\n",
      "57/68 [========================>.....] - ETA: 0s - loss: 0.0858 - root_mean_squared_error: 0.2929INFO:tensorflow:Assets written to: VOO\\assets\n"
     ]
    },
    {
     "name": "stderr",
     "output_type": "stream",
     "text": [
      "INFO:tensorflow:Assets written to: VOO\\assets\n"
     ]
    },
    {
     "name": "stdout",
     "output_type": "stream",
     "text": [
      "68/68 [==============================] - 4s 65ms/step - loss: 0.0824 - root_mean_squared_error: 0.2871 - val_loss: 0.6893 - val_root_mean_squared_error: 0.8303\n",
      "Epoch 3/3\n",
      "66/68 [============================>.] - ETA: 0s - loss: 0.0444 - root_mean_squared_error: 0.2108INFO:tensorflow:Assets written to: VOO\\assets\n"
     ]
    },
    {
     "name": "stderr",
     "output_type": "stream",
     "text": [
      "INFO:tensorflow:Assets written to: VOO\\assets\n"
     ]
    },
    {
     "name": "stdout",
     "output_type": "stream",
     "text": [
      "68/68 [==============================] - 4s 53ms/step - loss: 0.0440 - root_mean_squared_error: 0.2097 - val_loss: 0.4437 - val_root_mean_squared_error: 0.6661\n",
      "NEXT \n",
      "\n",
      "VTI\n",
      "Epoch 1/3\n",
      "68/68 [==============================] - ETA: 0s - loss: 0.2266 - root_mean_squared_error: 0.4760INFO:tensorflow:Assets written to: VTI\\assets\n"
     ]
    },
    {
     "name": "stderr",
     "output_type": "stream",
     "text": [
      "INFO:tensorflow:Assets written to: VTI\\assets\n"
     ]
    },
    {
     "name": "stdout",
     "output_type": "stream",
     "text": [
      "68/68 [==============================] - 8s 82ms/step - loss: 0.2266 - root_mean_squared_error: 0.4760 - val_loss: 0.2350 - val_root_mean_squared_error: 0.4847\n",
      "Epoch 2/3\n",
      "68/68 [==============================] - ETA: 0s - loss: 0.0182 - root_mean_squared_error: 0.1351INFO:tensorflow:Assets written to: VTI\\assets\n"
     ]
    },
    {
     "name": "stderr",
     "output_type": "stream",
     "text": [
      "INFO:tensorflow:Assets written to: VTI\\assets\n"
     ]
    },
    {
     "name": "stdout",
     "output_type": "stream",
     "text": [
      "68/68 [==============================] - 5s 73ms/step - loss: 0.0182 - root_mean_squared_error: 0.1351 - val_loss: 0.1049 - val_root_mean_squared_error: 0.3238\n",
      "Epoch 3/3\n",
      "65/68 [===========================>..] - ETA: 0s - loss: 0.0056 - root_mean_squared_error: 0.0748INFO:tensorflow:Assets written to: VTI\\assets\n"
     ]
    },
    {
     "name": "stderr",
     "output_type": "stream",
     "text": [
      "INFO:tensorflow:Assets written to: VTI\\assets\n"
     ]
    },
    {
     "name": "stdout",
     "output_type": "stream",
     "text": [
      "68/68 [==============================] - 4s 60ms/step - loss: 0.0056 - root_mean_squared_error: 0.0750 - val_loss: 0.0738 - val_root_mean_squared_error: 0.2717\n",
      "NEXT \n",
      "\n",
      "QQQ\n",
      "Epoch 1/3\n",
      "65/68 [===========================>..] - ETA: 0s - loss: 0.5165 - root_mean_squared_error: 0.7187INFO:tensorflow:Assets written to: QQQ\\assets\n"
     ]
    },
    {
     "name": "stderr",
     "output_type": "stream",
     "text": [
      "INFO:tensorflow:Assets written to: QQQ\\assets\n"
     ]
    },
    {
     "name": "stdout",
     "output_type": "stream",
     "text": [
      "68/68 [==============================] - 7s 71ms/step - loss: 0.5090 - root_mean_squared_error: 0.7134 - val_loss: 0.2102 - val_root_mean_squared_error: 0.4585\n",
      "Epoch 2/3\n",
      "55/68 [=======================>......] - ETA: 0s - loss: 0.2300 - root_mean_squared_error: 0.4796INFO:tensorflow:Assets written to: QQQ\\assets\n"
     ]
    },
    {
     "name": "stderr",
     "output_type": "stream",
     "text": [
      "INFO:tensorflow:Assets written to: QQQ\\assets\n"
     ]
    },
    {
     "name": "stdout",
     "output_type": "stream",
     "text": [
      "68/68 [==============================] - 4s 66ms/step - loss: 0.2163 - root_mean_squared_error: 0.4651 - val_loss: 0.0523 - val_root_mean_squared_error: 0.2286\n",
      "Epoch 3/3\n",
      "60/68 [=========================>....] - ETA: 0s - loss: 0.1376 - root_mean_squared_error: 0.3710INFO:tensorflow:Assets written to: QQQ\\assets\n"
     ]
    },
    {
     "name": "stderr",
     "output_type": "stream",
     "text": [
      "INFO:tensorflow:Assets written to: QQQ\\assets\n"
     ]
    },
    {
     "name": "stdout",
     "output_type": "stream",
     "text": [
      "68/68 [==============================] - 4s 67ms/step - loss: 0.1343 - root_mean_squared_error: 0.3665 - val_loss: 0.0454 - val_root_mean_squared_error: 0.2131\n",
      "NEXT \n",
      "\n",
      "VTV\n",
      "Epoch 1/3\n",
      "64/68 [===========================>..] - ETA: 0s - loss: 0.4581 - root_mean_squared_error: 0.6768INFO:tensorflow:Assets written to: VTV\\assets\n"
     ]
    },
    {
     "name": "stderr",
     "output_type": "stream",
     "text": [
      "INFO:tensorflow:Assets written to: VTV\\assets\n"
     ]
    },
    {
     "name": "stdout",
     "output_type": "stream",
     "text": [
      "68/68 [==============================] - 9s 87ms/step - loss: 0.4432 - root_mean_squared_error: 0.6657 - val_loss: 2.7535 - val_root_mean_squared_error: 1.6594\n",
      "Epoch 2/3\n",
      "68/68 [==============================] - ETA: 0s - loss: 0.0905 - root_mean_squared_error: 0.3008INFO:tensorflow:Assets written to: VTV\\assets\n"
     ]
    },
    {
     "name": "stderr",
     "output_type": "stream",
     "text": [
      "INFO:tensorflow:Assets written to: VTV\\assets\n"
     ]
    },
    {
     "name": "stdout",
     "output_type": "stream",
     "text": [
      "68/68 [==============================] - 4s 65ms/step - loss: 0.0905 - root_mean_squared_error: 0.3008 - val_loss: 0.9760 - val_root_mean_squared_error: 0.9879\n",
      "Epoch 3/3\n",
      "62/68 [==========================>...] - ETA: 0s - loss: 0.0180 - root_mean_squared_error: 0.1341INFO:tensorflow:Assets written to: VTV\\assets\n"
     ]
    },
    {
     "name": "stderr",
     "output_type": "stream",
     "text": [
      "INFO:tensorflow:Assets written to: VTV\\assets\n"
     ]
    },
    {
     "name": "stdout",
     "output_type": "stream",
     "text": [
      "68/68 [==============================] - 5s 68ms/step - loss: 0.0174 - root_mean_squared_error: 0.1318 - val_loss: 0.5045 - val_root_mean_squared_error: 0.7103\n",
      "NEXT \n",
      "\n",
      "BND\n",
      "Epoch 1/3\n",
      "65/68 [===========================>..] - ETA: 0s - loss: 0.3538 - root_mean_squared_error: 0.5948INFO:tensorflow:Assets written to: BND\\assets\n"
     ]
    },
    {
     "name": "stderr",
     "output_type": "stream",
     "text": [
      "INFO:tensorflow:Assets written to: BND\\assets\n"
     ]
    },
    {
     "name": "stdout",
     "output_type": "stream",
     "text": [
      "68/68 [==============================] - 10s 116ms/step - loss: 0.3423 - root_mean_squared_error: 0.5851 - val_loss: 0.1226 - val_root_mean_squared_error: 0.3501\n",
      "Epoch 2/3\n",
      "67/68 [============================>.] - ETA: 0s - loss: 0.0379 - root_mean_squared_error: 0.1946INFO:tensorflow:Assets written to: BND\\assets\n"
     ]
    },
    {
     "name": "stderr",
     "output_type": "stream",
     "text": [
      "INFO:tensorflow:Assets written to: BND\\assets\n"
     ]
    },
    {
     "name": "stdout",
     "output_type": "stream",
     "text": [
      "68/68 [==============================] - 5s 76ms/step - loss: 0.0376 - root_mean_squared_error: 0.1938 - val_loss: 0.0094 - val_root_mean_squared_error: 0.0970\n",
      "Epoch 3/3\n",
      "63/68 [==========================>...] - ETA: 0s - loss: 0.0127 - root_mean_squared_error: 0.1127INFO:tensorflow:Assets written to: BND\\assets\n"
     ]
    },
    {
     "name": "stderr",
     "output_type": "stream",
     "text": [
      "INFO:tensorflow:Assets written to: BND\\assets\n"
     ]
    },
    {
     "name": "stdout",
     "output_type": "stream",
     "text": [
      "68/68 [==============================] - 8s 114ms/step - loss: 0.0123 - root_mean_squared_error: 0.1108 - val_loss: 0.0067 - val_root_mean_squared_error: 0.0819\n",
      "NEXT \n",
      "\n",
      "IWF\n",
      "Epoch 1/3\n",
      "61/68 [=========================>....] - ETA: 0s - loss: 0.5200 - root_mean_squared_error: 0.7211INFO:tensorflow:Assets written to: IWF\\assets\n"
     ]
    },
    {
     "name": "stderr",
     "output_type": "stream",
     "text": [
      "INFO:tensorflow:Assets written to: IWF\\assets\n"
     ]
    },
    {
     "name": "stdout",
     "output_type": "stream",
     "text": [
      "68/68 [==============================] - 10s 105ms/step - loss: 0.5031 - root_mean_squared_error: 0.7093 - val_loss: 0.0453 - val_root_mean_squared_error: 0.2128\n",
      "Epoch 2/3\n",
      "67/68 [============================>.] - ETA: 0s - loss: 0.3574 - root_mean_squared_error: 0.5979INFO:tensorflow:Assets written to: IWF\\assets\n"
     ]
    },
    {
     "name": "stderr",
     "output_type": "stream",
     "text": [
      "INFO:tensorflow:Assets written to: IWF\\assets\n"
     ]
    },
    {
     "name": "stdout",
     "output_type": "stream",
     "text": [
      "68/68 [==============================] - 6s 87ms/step - loss: 0.3571 - root_mean_squared_error: 0.5976 - val_loss: 0.0270 - val_root_mean_squared_error: 0.1642\n",
      "Epoch 3/3\n",
      "63/68 [==========================>...] - ETA: 0s - loss: 0.2935 - root_mean_squared_error: 0.5417INFO:tensorflow:Assets written to: IWF\\assets\n"
     ]
    },
    {
     "name": "stderr",
     "output_type": "stream",
     "text": [
      "INFO:tensorflow:Assets written to: IWF\\assets\n"
     ]
    },
    {
     "name": "stdout",
     "output_type": "stream",
     "text": [
      "68/68 [==============================] - 6s 88ms/step - loss: 0.2849 - root_mean_squared_error: 0.5338 - val_loss: 0.0185 - val_root_mean_squared_error: 0.1360\n",
      "NEXT \n",
      "\n",
      "XLK\n",
      "Epoch 1/3\n",
      "60/68 [=========================>....] - ETA: 0s - loss: 0.3395 - root_mean_squared_error: 0.5827INFO:tensorflow:Assets written to: XLK\\assets\n"
     ]
    },
    {
     "name": "stderr",
     "output_type": "stream",
     "text": [
      "INFO:tensorflow:Assets written to: XLK\\assets\n"
     ]
    },
    {
     "name": "stdout",
     "output_type": "stream",
     "text": [
      "68/68 [==============================] - 10s 97ms/step - loss: 0.3135 - root_mean_squared_error: 0.5599 - val_loss: 0.2723 - val_root_mean_squared_error: 0.5218\n",
      "Epoch 2/3\n",
      "63/68 [==========================>...] - ETA: 0s - loss: 0.0548 - root_mean_squared_error: 0.2340INFO:tensorflow:Assets written to: XLK\\assets\n"
     ]
    },
    {
     "name": "stderr",
     "output_type": "stream",
     "text": [
      "INFO:tensorflow:Assets written to: XLK\\assets\n"
     ]
    },
    {
     "name": "stdout",
     "output_type": "stream",
     "text": [
      "68/68 [==============================] - 5s 80ms/step - loss: 0.0536 - root_mean_squared_error: 0.2315 - val_loss: 0.1215 - val_root_mean_squared_error: 0.3485\n",
      "Epoch 3/3\n",
      "61/68 [=========================>....] - ETA: 0s - loss: 0.0191 - root_mean_squared_error: 0.1383INFO:tensorflow:Assets written to: XLK\\assets\n"
     ]
    },
    {
     "name": "stderr",
     "output_type": "stream",
     "text": [
      "INFO:tensorflow:Assets written to: XLK\\assets\n"
     ]
    },
    {
     "name": "stdout",
     "output_type": "stream",
     "text": [
      "68/68 [==============================] - 5s 79ms/step - loss: 0.0185 - root_mean_squared_error: 0.1362 - val_loss: 0.0434 - val_root_mean_squared_error: 0.2084\n",
      "NEXT \n",
      "\n",
      "GLD\n",
      "Epoch 1/3\n",
      "65/68 [===========================>..] - ETA: 0s - loss: 0.6152 - root_mean_squared_error: 0.7844INFO:tensorflow:Assets written to: GLD\\assets\n"
     ]
    },
    {
     "name": "stderr",
     "output_type": "stream",
     "text": [
      "INFO:tensorflow:Assets written to: GLD\\assets\n"
     ]
    },
    {
     "name": "stdout",
     "output_type": "stream",
     "text": [
      "68/68 [==============================] - 10s 99ms/step - loss: 0.6049 - root_mean_squared_error: 0.7778 - val_loss: 0.2258 - val_root_mean_squared_error: 0.4752\n",
      "Epoch 2/3\n",
      "66/68 [============================>.] - ETA: 0s - loss: 0.4103 - root_mean_squared_error: 0.6405INFO:tensorflow:Assets written to: GLD\\assets\n"
     ]
    },
    {
     "name": "stderr",
     "output_type": "stream",
     "text": [
      "INFO:tensorflow:Assets written to: GLD\\assets\n"
     ]
    },
    {
     "name": "stdout",
     "output_type": "stream",
     "text": [
      "68/68 [==============================] - 6s 89ms/step - loss: 0.4080 - root_mean_squared_error: 0.6388 - val_loss: 0.1436 - val_root_mean_squared_error: 0.3789\n",
      "Epoch 3/3\n",
      "66/68 [============================>.] - ETA: 0s - loss: 0.3198 - root_mean_squared_error: 0.5655INFO:tensorflow:Assets written to: GLD\\assets\n"
     ]
    },
    {
     "name": "stderr",
     "output_type": "stream",
     "text": [
      "INFO:tensorflow:Assets written to: GLD\\assets\n"
     ]
    },
    {
     "name": "stdout",
     "output_type": "stream",
     "text": [
      "68/68 [==============================] - 5s 77ms/step - loss: 0.3170 - root_mean_squared_error: 0.5630 - val_loss: 0.1169 - val_root_mean_squared_error: 0.3419\n",
      "NEXT \n",
      "\n",
      "SCHD\n",
      "Epoch 1/3\n",
      "59/68 [=========================>....] - ETA: 0s - loss: 0.5924 - root_mean_squared_error: 0.7697INFO:tensorflow:Assets written to: SCHD\\assets\n"
     ]
    },
    {
     "name": "stderr",
     "output_type": "stream",
     "text": [
      "INFO:tensorflow:Assets written to: SCHD\\assets\n"
     ]
    },
    {
     "name": "stdout",
     "output_type": "stream",
     "text": [
      "68/68 [==============================] - 9s 93ms/step - loss: 0.5461 - root_mean_squared_error: 0.7390 - val_loss: 2.4369 - val_root_mean_squared_error: 1.5611\n",
      "Epoch 2/3\n",
      "63/68 [==========================>...] - ETA: 0s - loss: 0.1416 - root_mean_squared_error: 0.3764INFO:tensorflow:Assets written to: SCHD\\assets\n"
     ]
    },
    {
     "name": "stderr",
     "output_type": "stream",
     "text": [
      "INFO:tensorflow:Assets written to: SCHD\\assets\n"
     ]
    },
    {
     "name": "stdout",
     "output_type": "stream",
     "text": [
      "68/68 [==============================] - 6s 94ms/step - loss: 0.1366 - root_mean_squared_error: 0.3696 - val_loss: 1.1043 - val_root_mean_squared_error: 1.0509\n",
      "Epoch 3/3\n",
      "65/68 [===========================>..] - ETA: 0s - loss: 0.0324 - root_mean_squared_error: 0.1801INFO:tensorflow:Assets written to: SCHD\\assets\n"
     ]
    },
    {
     "name": "stderr",
     "output_type": "stream",
     "text": [
      "INFO:tensorflow:Assets written to: SCHD\\assets\n"
     ]
    },
    {
     "name": "stdout",
     "output_type": "stream",
     "text": [
      "68/68 [==============================] - 6s 83ms/step - loss: 0.0319 - root_mean_squared_error: 0.1786 - val_loss: 0.4903 - val_root_mean_squared_error: 0.7002\n",
      "NEXT \n",
      "\n",
      "EURUSD=X\n",
      "Epoch 1/3\n",
      "256/261 [============================>.] - ETA: 0s - loss: 0.1231 - root_mean_squared_error: 0.3509INFO:tensorflow:Assets written to: EURUSD=X\\assets\n"
     ]
    },
    {
     "name": "stderr",
     "output_type": "stream",
     "text": [
      "INFO:tensorflow:Assets written to: EURUSD=X\\assets\n"
     ]
    },
    {
     "name": "stdout",
     "output_type": "stream",
     "text": [
      "261/261 [==============================] - 12s 35ms/step - loss: 0.1211 - root_mean_squared_error: 0.3480 - val_loss: 0.0026 - val_root_mean_squared_error: 0.0512\n",
      "Epoch 2/3\n",
      "254/261 [============================>.] - ETA: 0s - loss: 0.0021 - root_mean_squared_error: 0.0457INFO:tensorflow:Assets written to: EURUSD=X\\assets\n"
     ]
    },
    {
     "name": "stderr",
     "output_type": "stream",
     "text": [
      "INFO:tensorflow:Assets written to: EURUSD=X\\assets\n"
     ]
    },
    {
     "name": "stdout",
     "output_type": "stream",
     "text": [
      "261/261 [==============================] - 7s 25ms/step - loss: 0.0021 - root_mean_squared_error: 0.0456 - val_loss: 0.0013 - val_root_mean_squared_error: 0.0362\n",
      "Epoch 3/3\n",
      "255/261 [============================>.] - ETA: 0s - loss: 0.0016 - root_mean_squared_error: 0.0399INFO:tensorflow:Assets written to: EURUSD=X\\assets\n"
     ]
    },
    {
     "name": "stderr",
     "output_type": "stream",
     "text": [
      "INFO:tensorflow:Assets written to: EURUSD=X\\assets\n"
     ]
    },
    {
     "name": "stdout",
     "output_type": "stream",
     "text": [
      "261/261 [==============================] - 6s 24ms/step - loss: 0.0016 - root_mean_squared_error: 0.0399 - val_loss: 9.7652e-04 - val_root_mean_squared_error: 0.0312\n",
      "NEXT \n",
      "\n",
      "JPY=X\n",
      "Epoch 1/3\n",
      "261/261 [==============================] - ETA: 0s - loss: 0.1171 - root_mean_squared_error: 0.3423INFO:tensorflow:Assets written to: JPY=X\\assets\n"
     ]
    },
    {
     "name": "stderr",
     "output_type": "stream",
     "text": [
      "INFO:tensorflow:Assets written to: JPY=X\\assets\n"
     ]
    },
    {
     "name": "stdout",
     "output_type": "stream",
     "text": [
      "261/261 [==============================] - 10s 28ms/step - loss: 0.1171 - root_mean_squared_error: 0.3423 - val_loss: 0.0020 - val_root_mean_squared_error: 0.0444\n",
      "Epoch 2/3\n",
      "259/261 [============================>.] - ETA: 0s - loss: 0.0015 - root_mean_squared_error: 0.0391INFO:tensorflow:Assets written to: JPY=X\\assets\n"
     ]
    },
    {
     "name": "stderr",
     "output_type": "stream",
     "text": [
      "INFO:tensorflow:Assets written to: JPY=X\\assets\n"
     ]
    },
    {
     "name": "stdout",
     "output_type": "stream",
     "text": [
      "261/261 [==============================] - 7s 27ms/step - loss: 0.0015 - root_mean_squared_error: 0.0391 - val_loss: 0.0017 - val_root_mean_squared_error: 0.0412\n",
      "Epoch 3/3\n",
      "255/261 [============================>.] - ETA: 0s - loss: 0.0011 - root_mean_squared_error: 0.0338INFO:tensorflow:Assets written to: JPY=X\\assets\n"
     ]
    },
    {
     "name": "stderr",
     "output_type": "stream",
     "text": [
      "INFO:tensorflow:Assets written to: JPY=X\\assets\n"
     ]
    },
    {
     "name": "stdout",
     "output_type": "stream",
     "text": [
      "261/261 [==============================] - 7s 27ms/step - loss: 0.0011 - root_mean_squared_error: 0.0339 - val_loss: 5.9623e-04 - val_root_mean_squared_error: 0.0244\n",
      "NEXT \n",
      "\n",
      "MXN=X\n",
      "Epoch 1/3\n",
      "259/261 [============================>.] - ETA: 0s - loss: 0.0873 - root_mean_squared_error: 0.2955INFO:tensorflow:Assets written to: MXN=X\\assets\n"
     ]
    },
    {
     "name": "stderr",
     "output_type": "stream",
     "text": [
      "INFO:tensorflow:Assets written to: MXN=X\\assets\n"
     ]
    },
    {
     "name": "stdout",
     "output_type": "stream",
     "text": [
      "261/261 [==============================] - 13s 36ms/step - loss: 0.0869 - root_mean_squared_error: 0.2949 - val_loss: 0.0028 - val_root_mean_squared_error: 0.0528\n",
      "Epoch 2/3\n",
      "252/261 [===========================>..] - ETA: 0s - loss: 0.0043 - root_mean_squared_error: 0.0656INFO:tensorflow:Assets written to: MXN=X\\assets\n"
     ]
    },
    {
     "name": "stderr",
     "output_type": "stream",
     "text": [
      "INFO:tensorflow:Assets written to: MXN=X\\assets\n"
     ]
    },
    {
     "name": "stdout",
     "output_type": "stream",
     "text": [
      "261/261 [==============================] - 6s 24ms/step - loss: 0.0043 - root_mean_squared_error: 0.0656 - val_loss: 0.0024 - val_root_mean_squared_error: 0.0488\n",
      "Epoch 3/3\n",
      "256/261 [============================>.] - ETA: 0s - loss: 0.0037 - root_mean_squared_error: 0.0609INFO:tensorflow:Assets written to: MXN=X\\assets\n"
     ]
    },
    {
     "name": "stderr",
     "output_type": "stream",
     "text": [
      "INFO:tensorflow:Assets written to: MXN=X\\assets\n"
     ]
    },
    {
     "name": "stdout",
     "output_type": "stream",
     "text": [
      "261/261 [==============================] - 6s 24ms/step - loss: 0.0037 - root_mean_squared_error: 0.0609 - val_loss: 0.0022 - val_root_mean_squared_error: 0.0465\n",
      "NEXT \n",
      "\n",
      "SOL-USD\n",
      "Epoch 1/3\n",
      "366/366 [==============================] - ETA: 0s - loss: 0.0987 - root_mean_squared_error: 0.3142INFO:tensorflow:Assets written to: SOL-USD\\assets\n"
     ]
    },
    {
     "name": "stderr",
     "output_type": "stream",
     "text": [
      "INFO:tensorflow:Assets written to: SOL-USD\\assets\n"
     ]
    },
    {
     "name": "stdout",
     "output_type": "stream",
     "text": [
      "366/366 [==============================] - 14s 30ms/step - loss: 0.0987 - root_mean_squared_error: 0.3142 - val_loss: 0.3383 - val_root_mean_squared_error: 0.5816\n",
      "Epoch 2/3\n",
      "362/366 [============================>.] - ETA: 0s - loss: 0.0026 - root_mean_squared_error: 0.0506INFO:tensorflow:Assets written to: SOL-USD\\assets\n"
     ]
    },
    {
     "name": "stderr",
     "output_type": "stream",
     "text": [
      "INFO:tensorflow:Assets written to: SOL-USD\\assets\n"
     ]
    },
    {
     "name": "stdout",
     "output_type": "stream",
     "text": [
      "366/366 [==============================] - 8s 21ms/step - loss: 0.0026 - root_mean_squared_error: 0.0505 - val_loss: 0.2089 - val_root_mean_squared_error: 0.4571\n",
      "Epoch 3/3\n",
      "362/366 [============================>.] - ETA: 0s - loss: 0.0010 - root_mean_squared_error: 0.0318INFO:tensorflow:Assets written to: SOL-USD\\assets\n"
     ]
    },
    {
     "name": "stderr",
     "output_type": "stream",
     "text": [
      "INFO:tensorflow:Assets written to: SOL-USD\\assets\n"
     ]
    },
    {
     "name": "stdout",
     "output_type": "stream",
     "text": [
      "366/366 [==============================] - 7s 20ms/step - loss: 0.0010 - root_mean_squared_error: 0.0318 - val_loss: 0.1432 - val_root_mean_squared_error: 0.3784\n",
      "NEXT \n",
      "\n",
      "ZB=F\n",
      "Epoch 1/3\n",
      "174/175 [============================>.] - ETA: 0s - loss: 0.1046 - root_mean_squared_error: 0.3234INFO:tensorflow:Assets written to: ZB=F\\assets\n"
     ]
    },
    {
     "name": "stderr",
     "output_type": "stream",
     "text": [
      "INFO:tensorflow:Assets written to: ZB=F\\assets\n"
     ]
    },
    {
     "name": "stdout",
     "output_type": "stream",
     "text": [
      "175/175 [==============================] - 11s 44ms/step - loss: 0.1045 - root_mean_squared_error: 0.3233 - val_loss: 0.1482 - val_root_mean_squared_error: 0.3850\n",
      "Epoch 2/3\n",
      "170/175 [============================>.] - ETA: 0s - loss: 0.0035 - root_mean_squared_error: 0.0594INFO:tensorflow:Assets written to: ZB=F\\assets\n"
     ]
    },
    {
     "name": "stderr",
     "output_type": "stream",
     "text": [
      "INFO:tensorflow:Assets written to: ZB=F\\assets\n"
     ]
    },
    {
     "name": "stdout",
     "output_type": "stream",
     "text": [
      "175/175 [==============================] - 6s 36ms/step - loss: 0.0035 - root_mean_squared_error: 0.0594 - val_loss: 0.0964 - val_root_mean_squared_error: 0.3105\n",
      "Epoch 3/3\n",
      "173/175 [============================>.] - ETA: 0s - loss: 0.0028 - root_mean_squared_error: 0.0530INFO:tensorflow:Assets written to: ZB=F\\assets\n"
     ]
    },
    {
     "name": "stderr",
     "output_type": "stream",
     "text": [
      "INFO:tensorflow:Assets written to: ZB=F\\assets\n"
     ]
    },
    {
     "name": "stdout",
     "output_type": "stream",
     "text": [
      "175/175 [==============================] - 6s 34ms/step - loss: 0.0028 - root_mean_squared_error: 0.0529 - val_loss: 0.0798 - val_root_mean_squared_error: 0.2824\n",
      "NEXT \n",
      "\n",
      "HG=F\n",
      "Epoch 1/3\n",
      "174/175 [============================>.] - ETA: 0s - loss: 0.1118 - root_mean_squared_error: 0.3343INFO:tensorflow:Assets written to: HG=F\\assets\n"
     ]
    },
    {
     "name": "stderr",
     "output_type": "stream",
     "text": [
      "INFO:tensorflow:Assets written to: HG=F\\assets\n"
     ]
    },
    {
     "name": "stdout",
     "output_type": "stream",
     "text": [
      "175/175 [==============================] - 11s 45ms/step - loss: 0.1117 - root_mean_squared_error: 0.3342 - val_loss: 0.1602 - val_root_mean_squared_error: 0.4002\n",
      "Epoch 2/3\n",
      "169/175 [===========================>..] - ETA: 0s - loss: 0.0029 - root_mean_squared_error: 0.0538INFO:tensorflow:Assets written to: HG=F\\assets\n"
     ]
    },
    {
     "name": "stderr",
     "output_type": "stream",
     "text": [
      "INFO:tensorflow:Assets written to: HG=F\\assets\n"
     ]
    },
    {
     "name": "stdout",
     "output_type": "stream",
     "text": [
      "175/175 [==============================] - 7s 38ms/step - loss: 0.0029 - root_mean_squared_error: 0.0538 - val_loss: 0.1069 - val_root_mean_squared_error: 0.3270\n",
      "Epoch 3/3\n",
      "169/175 [===========================>..] - ETA: 0s - loss: 0.0022 - root_mean_squared_error: 0.0474INFO:tensorflow:Assets written to: HG=F\\assets\n"
     ]
    },
    {
     "name": "stderr",
     "output_type": "stream",
     "text": [
      "INFO:tensorflow:Assets written to: HG=F\\assets\n"
     ]
    },
    {
     "name": "stdout",
     "output_type": "stream",
     "text": [
      "175/175 [==============================] - 7s 42ms/step - loss: 0.0023 - root_mean_squared_error: 0.0476 - val_loss: 0.0795 - val_root_mean_squared_error: 0.2820\n",
      "NEXT \n",
      "\n",
      "ZC=F\n",
      "Epoch 1/3\n",
      "168/175 [===========================>..] - ETA: 0s - loss: 0.3650 - root_mean_squared_error: 0.6042INFO:tensorflow:Assets written to: ZC=F\\assets\n"
     ]
    },
    {
     "name": "stderr",
     "output_type": "stream",
     "text": [
      "INFO:tensorflow:Assets written to: ZC=F\\assets\n"
     ]
    },
    {
     "name": "stdout",
     "output_type": "stream",
     "text": [
      "175/175 [==============================] - 11s 44ms/step - loss: 0.3566 - root_mean_squared_error: 0.5972 - val_loss: 2.5323 - val_root_mean_squared_error: 1.5913\n",
      "Epoch 2/3\n",
      "173/175 [============================>.] - ETA: 0s - loss: 0.0680 - root_mean_squared_error: 0.2607INFO:tensorflow:Assets written to: ZC=F\\assets\n"
     ]
    },
    {
     "name": "stderr",
     "output_type": "stream",
     "text": [
      "INFO:tensorflow:Assets written to: ZC=F\\assets\n"
     ]
    },
    {
     "name": "stdout",
     "output_type": "stream",
     "text": [
      "175/175 [==============================] - 7s 40ms/step - loss: 0.0677 - root_mean_squared_error: 0.2602 - val_loss: 1.0630 - val_root_mean_squared_error: 1.0310\n",
      "Epoch 3/3\n",
      "174/175 [============================>.] - ETA: 0s - loss: 0.0452 - root_mean_squared_error: 0.2127INFO:tensorflow:Assets written to: ZC=F\\assets\n"
     ]
    },
    {
     "name": "stderr",
     "output_type": "stream",
     "text": [
      "INFO:tensorflow:Assets written to: ZC=F\\assets\n"
     ]
    },
    {
     "name": "stdout",
     "output_type": "stream",
     "text": [
      "175/175 [==============================] - 7s 38ms/step - loss: 0.0452 - root_mean_squared_error: 0.2126 - val_loss: 0.7423 - val_root_mean_squared_error: 0.8615\n",
      "NEXT \n",
      "\n",
      "ZM=F\n",
      "Epoch 1/3\n",
      "175/175 [==============================] - 5s 11ms/step - loss: 0.0053 - root_mean_squared_error: 0.0727 - val_loss: 0.0131 - val_root_mean_squared_error: 0.1146\n",
      "Epoch 2/3\n",
      "175/175 [==============================] - 1s 6ms/step - loss: 0.0051 - root_mean_squared_error: 0.0717 - val_loss: 0.0167 - val_root_mean_squared_error: 0.1293\n",
      "Epoch 3/3\n",
      "175/175 [==============================] - 1s 7ms/step - loss: 0.0055 - root_mean_squared_error: 0.0740 - val_loss: 0.0133 - val_root_mean_squared_error: 0.1152\n",
      "NEXT \n",
      "\n"
     ]
    }
   ],
   "source": [
    "for eq in portfolio_dict:\n",
    "        for stck in portfolio_dict[eq]:\n",
    "                print(stck)\n",
    "                models[stck].compile(loss=MeanSquaredError(), optimizer=Adam(learning_rate=0.001), metrics=[RootMeanSquaredError()])\n",
    "                models[stck].fit(X[stck][0], Y[stck][0], validation_data=(X[stck][1], Y[stck][1]), epochs=3, callbacks=[checkpoints[stck]])\n",
    "                print(\"NEXT \\n\")"
   ]
  }
 ],
 "metadata": {
  "kernelspec": {
   "display_name": "AlgoTrading",
   "language": "python",
   "name": "python3"
  },
  "language_info": {
   "codemirror_mode": {
    "name": "ipython",
    "version": 3
   },
   "file_extension": ".py",
   "mimetype": "text/x-python",
   "name": "python",
   "nbconvert_exporter": "python",
   "pygments_lexer": "ipython3",
   "version": "3.11.3"
  }
 },
 "nbformat": 4,
 "nbformat_minor": 2
}
