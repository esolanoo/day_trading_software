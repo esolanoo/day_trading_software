{
 "cells": [
  {
   "cell_type": "code",
   "execution_count": 3,
   "metadata": {},
   "outputs": [],
   "source": [
    "import warnings\n",
    "warnings.filterwarnings('ignore')"
   ]
  },
  {
   "cell_type": "code",
   "execution_count": 4,
   "metadata": {},
   "outputs": [],
   "source": [
    "import os\n",
    "os.environ[\"KMP_DUPLICATE_LIB_OK\"]=\"TRUE\""
   ]
  },
  {
   "cell_type": "markdown",
   "metadata": {},
   "source": [
    "## Diversification of the portfolio"
   ]
  },
  {
   "cell_type": "markdown",
   "metadata": {},
   "source": [
    "## Tickers"
   ]
  },
  {
   "cell_type": "code",
   "execution_count": 5,
   "metadata": {},
   "outputs": [],
   "source": [
    "with open('tickers.txt', 'r') as file:\n",
    "    lines = file.readlines()\n",
    "    \n",
    "portfolio = {}\n",
    "\n",
    "for line in lines:\n",
    "    key, value = line.strip().split('=', 1)\n",
    "    list_name = key.strip()\n",
    "    items = value.strip().strip('[]').replace(\"'\", \"\").split(', ')\n",
    "    portfolio[list_name] = items\n",
    "\n",
    "portfolio_columns = \"stocks efts coins crypto futures\".split(' ')"
   ]
  },
  {
   "cell_type": "markdown",
   "metadata": {},
   "source": [
    "### Historical data"
   ]
  },
  {
   "cell_type": "code",
   "execution_count": 6,
   "metadata": {},
   "outputs": [],
   "source": [
    "import yfinance as yf\n",
    "from datetime import datetime, timedelta\n",
    "import pandas as pd\n",
    "import matplotlib.pyplot as plt"
   ]
  },
  {
   "cell_type": "markdown",
   "metadata": {},
   "source": [
    "`yfinance.download` has the column `Adj Close`, which is not present in any `Ticker` method, therefore it is extracted to begin with."
   ]
  },
  {
   "cell_type": "code",
   "execution_count": 7,
   "metadata": {},
   "outputs": [
    {
     "name": "stderr",
     "output_type": "stream",
     "text": [
      "[*********************100%%**********************]  1 of 1 completed\n"
     ]
    },
    {
     "data": {
      "text/plain": [
       "Datetime\n",
       "2024-01-08 09:30:00-05:00    52.756001\n",
       "2024-01-08 09:35:00-05:00    52.661999\n",
       "2024-01-08 09:40:00-05:00    52.750000\n",
       "2024-01-08 09:45:00-05:00    52.590000\n",
       "2024-01-08 09:50:00-05:00    52.598000\n",
       "                               ...    \n",
       "2024-03-04 15:35:00-05:00    48.250000\n",
       "2024-03-04 15:40:00-05:00    48.299999\n",
       "2024-03-04 15:45:00-05:00    48.189999\n",
       "2024-03-04 15:50:00-05:00    48.249500\n",
       "2024-03-04 15:55:00-05:00    48.240002\n",
       "Name: Adj Close, Length: 3021, dtype: float64"
      ]
     },
     "metadata": {},
     "output_type": "display_data"
    }
   ],
   "source": [
    "now = datetime.now()\n",
    "start = now - timedelta(days=59)\n",
    "\n",
    "stock = 'BYDDY'\n",
    "\n",
    "df = yf.download(stock, end=now.strftime('%Y-%m-%d'), start=start.strftime('%Y-%m-%d'), interval='5m')['Adj Close']\n",
    "display(df)"
   ]
  },
  {
   "cell_type": "markdown",
   "metadata": {},
   "source": [
    "`yfinance.Tickers.history` provides the rest of the market historical data. It is then innerly joined with the previous DataFrame on `Datetime` "
   ]
  },
  {
   "cell_type": "code",
   "execution_count": 8,
   "metadata": {},
   "outputs": [
    {
     "data": {
      "text/html": [
       "<div>\n",
       "<style scoped>\n",
       "    .dataframe tbody tr th:only-of-type {\n",
       "        vertical-align: middle;\n",
       "    }\n",
       "\n",
       "    .dataframe tbody tr th {\n",
       "        vertical-align: top;\n",
       "    }\n",
       "\n",
       "    .dataframe thead th {\n",
       "        text-align: right;\n",
       "    }\n",
       "</style>\n",
       "<table border=\"1\" class=\"dataframe\">\n",
       "  <thead>\n",
       "    <tr style=\"text-align: right;\">\n",
       "      <th></th>\n",
       "      <th>Open</th>\n",
       "      <th>High</th>\n",
       "      <th>Low</th>\n",
       "      <th>Close</th>\n",
       "      <th>Volume</th>\n",
       "      <th>Dividends</th>\n",
       "      <th>Stock Splits</th>\n",
       "      <th>Adj Close</th>\n",
       "    </tr>\n",
       "  </thead>\n",
       "  <tbody>\n",
       "    <tr>\n",
       "      <th>175</th>\n",
       "      <td>52.525002</td>\n",
       "      <td>52.538502</td>\n",
       "      <td>52.500000</td>\n",
       "      <td>52.538502</td>\n",
       "      <td>6595</td>\n",
       "      <td>0.0</td>\n",
       "      <td>0.0</td>\n",
       "      <td>52.538502</td>\n",
       "    </tr>\n",
       "    <tr>\n",
       "      <th>2570</th>\n",
       "      <td>48.990002</td>\n",
       "      <td>48.990002</td>\n",
       "      <td>48.880001</td>\n",
       "      <td>48.910000</td>\n",
       "      <td>2981</td>\n",
       "      <td>0.0</td>\n",
       "      <td>0.0</td>\n",
       "      <td>48.910000</td>\n",
       "    </tr>\n",
       "    <tr>\n",
       "      <th>731</th>\n",
       "      <td>49.570000</td>\n",
       "      <td>49.599998</td>\n",
       "      <td>49.570000</td>\n",
       "      <td>49.599998</td>\n",
       "      <td>4830</td>\n",
       "      <td>0.0</td>\n",
       "      <td>0.0</td>\n",
       "      <td>49.599998</td>\n",
       "    </tr>\n",
       "  </tbody>\n",
       "</table>\n",
       "</div>"
      ],
      "text/plain": [
       "           Open       High        Low      Close  Volume  Dividends  \\\n",
       "175   52.525002  52.538502  52.500000  52.538502    6595        0.0   \n",
       "2570  48.990002  48.990002  48.880001  48.910000    2981        0.0   \n",
       "731   49.570000  49.599998  49.570000  49.599998    4830        0.0   \n",
       "\n",
       "      Stock Splits  Adj Close  \n",
       "175            0.0  52.538502  \n",
       "2570           0.0  48.910000  \n",
       "731            0.0  49.599998  "
      ]
     },
     "execution_count": 8,
     "metadata": {},
     "output_type": "execute_result"
    }
   ],
   "source": [
    "stock_ticker = yf.Ticker(stock)\n",
    "stock_hist = stock_ticker.history(end=now.strftime('%Y-%m-%d'), start=start.strftime('%Y-%m-%d'), interval='5m')\n",
    "stock_hist.reset_index(inplace=True)\n",
    "stock_hist.set_index('Datetime', inplace=True)\n",
    "stock_hist = pd.concat([stock_hist, df], axis=1, join='inner')\n",
    "stock_hist.reset_index(inplace=True)\n",
    "stock_hist.drop('Datetime', axis=1, inplace=True)\n",
    "stock_hist.sample(3)"
   ]
  },
  {
   "cell_type": "code",
   "execution_count": 11,
   "metadata": {},
   "outputs": [],
   "source": [
    "import numpy as np \n",
    "\n",
    "def historical(ticker):\n",
    "    now = datetime.now()\n",
    "    start = now - timedelta(days=58)\n",
    "\n",
    "    stock = ticker\n",
    "\n",
    "    df = yf.download(stock, end=now.strftime('%Y-%m-%d'), start=start.strftime('%Y-%m-%d'), interval='5m', progress=False)['Adj Close']\n",
    "    stock_ticker = yf.Ticker(stock)\n",
    "    stock_hist = stock_ticker.history(end=now.strftime('%Y-%m-%d'), start=start.strftime('%Y-%m-%d'), interval='5m');\n",
    "    stock_hist.reset_index(inplace=True)\n",
    "    stock_hist.set_index('Datetime', inplace=True)\n",
    "    stock_hist = pd.concat([stock_hist, df], axis=1)\n",
    "    stock_hist['returns'] = stock_hist['Adj Close'].pct_change()\n",
    "    stock_hist['s'] = stock_hist.index.map(pd.Timestamp.timestamp)\n",
    "    stock_hist['day sin'] = np.sin(stock_hist['s']*(2*np.pi / 60/60/24))\n",
    "    stock_hist.reset_index(inplace=True)\n",
    "    stock_hist.drop(['s', 'Datetime'], axis=1, inplace=True)\n",
    "    stock_hist.ffill(inplace=True)\n",
    "    stock_hist.dropna(inplace=True)\n",
    "    \n",
    "    return stock_hist.to_dict()"
   ]
  },
  {
   "cell_type": "markdown",
   "metadata": {},
   "source": [
    "Apply it to all the stocks"
   ]
  },
  {
   "cell_type": "code",
   "execution_count": 12,
   "metadata": {},
   "outputs": [
    {
     "name": "stderr",
     "output_type": "stream",
     "text": [
      "  0%|          | 0/31 [01:27<?, ?it/s]\n",
      "100%|██████████| 31/31 [00:13<00:00,  2.24it/s]\n"
     ]
    }
   ],
   "source": [
    "from tqdm import tqdm\n",
    "\n",
    "portfolio_hist = {}\n",
    "pbar = tqdm(total=sum([len(x) for x in portfolio.values()]))\n",
    "columns = iter(portfolio.keys())\n",
    "for eq in portfolio.values():\n",
    "    aux = pd.DataFrame()\n",
    "    for stck in eq:\n",
    "        df = historical(stck)\n",
    "        aux[stck] = df\n",
    "        pbar.update(1)\n",
    "    multi_indexed_df = pd.concat({(i, j): pd.Series(v) for i, d in aux.to_dict().items() for j, v in d.items()}, axis=0)\n",
    "    hist = pd.DataFrame(multi_indexed_df.unstack().transpose())\n",
    "    #hist = hist.swaplevel(0, 1, axis=1)\n",
    "    hist = hist.sort_index(axis=1)\n",
    "    portfolio_hist[next(columns)] = hist.dropna() \n",
    "pbar.close()  "
   ]
  },
  {
   "cell_type": "code",
   "execution_count": 13,
   "metadata": {},
   "outputs": [],
   "source": [
    "data = portfolio_hist['stocks']['AMD']['day sin']"
   ]
  },
  {
   "cell_type": "code",
   "execution_count": 17,
   "metadata": {},
   "outputs": [
    {
     "data": {
      "text/plain": [
       "dict_keys(['stocks', 'efts', 'coins', 'crypto', 'futures'])"
      ]
     },
     "execution_count": 17,
     "metadata": {},
     "output_type": "execute_result"
    }
   ],
   "source": [
    "portfolio.keys()"
   ]
  }
 ],
 "metadata": {
  "kernelspec": {
   "display_name": "AlgoTrading",
   "language": "python",
   "name": "python3"
  },
  "language_info": {
   "codemirror_mode": {
    "name": "ipython",
    "version": 3
   },
   "file_extension": ".py",
   "mimetype": "text/x-python",
   "name": "python",
   "nbconvert_exporter": "python",
   "pygments_lexer": "ipython3",
   "version": "3.11.7"
  }
 },
 "nbformat": 4,
 "nbformat_minor": 2
}
