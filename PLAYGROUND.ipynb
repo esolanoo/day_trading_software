{
 "cells": [
  {
   "cell_type": "code",
   "execution_count": 9,
   "metadata": {},
   "outputs": [
    {
     "name": "stderr",
     "output_type": "stream",
     "text": [
      "100%|██████████| 30/30 [00:03<00:00,  7.86it/s]\n",
      "  0%|          | 0/30 [00:00<?, ?it/s]"
     ]
    },
    {
     "ename": "ValueError",
     "evalue": "A total of 3 objects could not be loaded. Example error message for object <LSTMCell name=lstm_cell, built=True>:\n\nLayer 'lstm_cell' expected 3 variables, but received 0 variables during loading. Expected: ['kernel', 'recurrent_kernel', 'bias']\n\nList of objects that could not be loaded:\n[<LSTMCell name=lstm_cell, built=True>, <Dense name=dense_60, built=True>, <Dense name=dense_61, built=True>]",
     "output_type": "error",
     "traceback": [
      "\u001b[1;31m---------------------------------------------------------------------------\u001b[0m",
      "\u001b[1;31mValueError\u001b[0m                                Traceback (most recent call last)",
      "Cell \u001b[1;32mIn[9], line 12\u001b[0m\n\u001b[0;32m     10\u001b[0m X, Y \u001b[38;5;241m=\u001b[39m ML_data(portfolio, portfolio_dict)\n\u001b[0;32m     11\u001b[0m models, checkpoints \u001b[38;5;241m=\u001b[39m Create_Models(portfolio_dict, learning_rate\u001b[38;5;241m=\u001b[39m\u001b[38;5;241m0.0001\u001b[39m)\n\u001b[1;32m---> 12\u001b[0m models \u001b[38;5;241m=\u001b[39m PopulateModels(portfolio_dict)\n\u001b[0;32m     13\u001b[0m predictions_test, predictions_validation \u001b[38;5;241m=\u001b[39m Predictions(X, Y, models)\n",
      "File \u001b[1;32md:\\Documentos\\ECID\\ProyectoTerminal\\DayTradingSoftware\\day_trading_software\\ML_funcs.py:46\u001b[0m, in \u001b[0;36mPopulateModels\u001b[1;34m(portfolio_dict)\u001b[0m\n\u001b[0;32m     44\u001b[0m     \u001b[38;5;28;01mfor\u001b[39;00m tckr \u001b[38;5;129;01min\u001b[39;00m portfolio_dict[eq]:\n\u001b[0;32m     45\u001b[0m         models[tckr] \u001b[38;5;241m=\u001b[39m Single_Model()\n\u001b[1;32m---> 46\u001b[0m         models[tckr]\u001b[38;5;241m.\u001b[39mload_weights(\u001b[38;5;124m\"\u001b[39m\u001b[38;5;132;01m{}\u001b[39;00m\u001b[38;5;124m/cpt.weights.h5\u001b[39m\u001b[38;5;124m\"\u001b[39m\u001b[38;5;241m.\u001b[39mformat(tckr))\n\u001b[0;32m     47\u001b[0m         pbar\u001b[38;5;241m.\u001b[39mupdate(\u001b[38;5;241m1\u001b[39m)\n\u001b[0;32m     48\u001b[0m pbar\u001b[38;5;241m.\u001b[39mclose()\n",
      "File \u001b[1;32md:\\Apps\\Anaconda\\App\\envs\\algo_trading\\Lib\\site-packages\\keras\\src\\utils\\traceback_utils.py:123\u001b[0m, in \u001b[0;36mfilter_traceback.<locals>.error_handler\u001b[1;34m(*args, **kwargs)\u001b[0m\n\u001b[0;32m    120\u001b[0m     filtered_tb \u001b[38;5;241m=\u001b[39m _process_traceback_frames(e\u001b[38;5;241m.\u001b[39m__traceback__)\n\u001b[0;32m    121\u001b[0m     \u001b[38;5;66;03m# To get the full stack trace, call:\u001b[39;00m\n\u001b[0;32m    122\u001b[0m     \u001b[38;5;66;03m# `keras.config.disable_traceback_filtering()`\u001b[39;00m\n\u001b[1;32m--> 123\u001b[0m     \u001b[38;5;28;01mraise\u001b[39;00m e\u001b[38;5;241m.\u001b[39mwith_traceback(filtered_tb) \u001b[38;5;28;01mfrom\u001b[39;00m \u001b[38;5;28;01mNone\u001b[39;00m\n\u001b[0;32m    124\u001b[0m \u001b[38;5;28;01mfinally\u001b[39;00m:\n\u001b[0;32m    125\u001b[0m     \u001b[38;5;28;01mdel\u001b[39;00m filtered_tb\n",
      "File \u001b[1;32md:\\Apps\\Anaconda\\App\\envs\\algo_trading\\Lib\\site-packages\\keras\\src\\saving\\saving_lib.py:273\u001b[0m, in \u001b[0;36m_raise_loading_failure\u001b[1;34m(error_msgs, warn_only)\u001b[0m\n\u001b[0;32m    271\u001b[0m     warnings\u001b[38;5;241m.\u001b[39mwarn(msg)\n\u001b[0;32m    272\u001b[0m \u001b[38;5;28;01melse\u001b[39;00m:\n\u001b[1;32m--> 273\u001b[0m     \u001b[38;5;28;01mraise\u001b[39;00m \u001b[38;5;167;01mValueError\u001b[39;00m(msg)\n",
      "\u001b[1;31mValueError\u001b[0m: A total of 3 objects could not be loaded. Example error message for object <LSTMCell name=lstm_cell, built=True>:\n\nLayer 'lstm_cell' expected 3 variables, but received 0 variables during loading. Expected: ['kernel', 'recurrent_kernel', 'bias']\n\nList of objects that could not be loaded:\n[<LSTMCell name=lstm_cell, built=True>, <Dense name=dense_60, built=True>, <Dense name=dense_61, built=True>]"
     ]
    }
   ],
   "source": [
    "from data_funcs import *\n",
    "from ML_funcs import *\n",
    "\n",
    "\n",
    "import warnings\n",
    "\n",
    "warnings.filterwarnings('ignore')\n",
    "\n",
    "portfolio_dict, portfolio = get_data()\n",
    "X, Y = ML_data(portfolio, portfolio_dict)\n",
    "models, checkpoints = Create_Models(portfolio_dict, learning_rate=0.0001)\n",
    "models = PopulateModels(portfolio_dict)\n",
    "predictions_test, predictions_validation = Predictions(X, Y, models)"
   ]
  },
  {
   "cell_type": "code",
   "execution_count": null,
   "metadata": {},
   "outputs": [],
   "source": [
    "import matplotlib.pyplot as plt\n",
    "import seaborn as sea\n",
    "\n",
    "sea.set_style(\"whitegrid\")\n",
    "sea.set_context(\"notebook\")\n",
    "\n",
    "def Plot(df, tckr, columns, title):\n",
    "    for col in columns:\n",
    "        plt.plot(df[tckr][col])\n",
    "        plt.title(title)\n",
    "        plt.show()\n",
    "        \n",
    "        \n",
    "def Plot_Predictions(df, tckr):\n",
    "    fig, axs = plt.subplots(2, 2)\n",
    "    cols = df[tckr].columns\n",
    "    for ax, label in zip(axs, [cols[i:i+2] for i in range(len(cols))][::2]):\n",
    "        sea.lineplot(data=df[tckr][label], ax=ax, )\n",
    "    fig.suptitle(tckr)\n",
    "    plt.tight_layout()\n",
    "    plt.show()"
   ]
  },
  {
   "cell_type": "code",
   "execution_count": 8,
   "metadata": {},
   "outputs": [
    {
     "data": {
      "text/plain": [
       "[['Actual High', 'Predicted High'],\n",
       " ['Actual Low', 'Predicted Low'],\n",
       " ['Actual Close', 'Predicted Close'],\n",
       " ['Actual Adj Close', 'Predicted Adj Close']]"
      ]
     },
     "execution_count": 8,
     "metadata": {},
     "output_type": "execute_result"
    }
   ],
   "source": [
    "data = ['Actual High', 'Predicted High', 'Actual Low', 'Predicted Low', 'Actual Close', 'Predicted Close', 'Actual Adj Close', 'Predicted Adj Close']\n",
    "[data[i:i+2] for i in range(len(data))][::2]"
   ]
  }
 ],
 "metadata": {
  "kernelspec": {
   "display_name": "Python 3",
   "language": "python",
   "name": "python3"
  },
  "language_info": {
   "codemirror_mode": {
    "name": "ipython",
    "version": 3
   },
   "file_extension": ".py",
   "mimetype": "text/x-python",
   "name": "python",
   "nbconvert_exporter": "python",
   "pygments_lexer": "ipython3",
   "version": "3.11.8"
  }
 },
 "nbformat": 4,
 "nbformat_minor": 2
}
